{
 "cells": [
  {
   "cell_type": "markdown",
   "id": "c4fa44b1",
   "metadata": {},
   "source": [
    "# Studie 2 \n",
    "\n",
    "Bearbetning av av studie 2\n",
    "\n",
    "Huvudfråga: Är deltagare mindre benägna att välja den ansträngande uppgiften ju fler trials som gått? \n",
    "\n",
    "Modereras effekten av individuella skillnader som Need for Cognition. "
   ]
  },
  {
   "cell_type": "code",
   "execution_count": 131,
   "id": "5baac505",
   "metadata": {},
   "outputs": [],
   "source": [
    "import pandas as pd\n",
    "import matplotlib.pyplot as plt\n",
    "import numpy as np\n",
    "import plotly.express as px"
   ]
  },
  {
   "cell_type": "markdown",
   "id": "1a0fbb47",
   "metadata": {},
   "source": [
    "I vår första cell importar vi modulerna vi kommer behöva under vår analys,"
   ]
  },
  {
   "cell_type": "code",
   "execution_count": 132,
   "id": "f7cbe573",
   "metadata": {},
   "outputs": [
    {
     "data": {
      "text/html": [
       "<div>\n",
       "<style scoped>\n",
       "    .dataframe tbody tr th:only-of-type {\n",
       "        vertical-align: middle;\n",
       "    }\n",
       "\n",
       "    .dataframe tbody tr th {\n",
       "        vertical-align: top;\n",
       "    }\n",
       "\n",
       "    .dataframe thead th {\n",
       "        text-align: right;\n",
       "    }\n",
       "</style>\n",
       "<table border=\"1\" class=\"dataframe\">\n",
       "  <thead>\n",
       "    <tr style=\"text-align: right;\">\n",
       "      <th></th>\n",
       "      <th>PID</th>\n",
       "      <th>attencheck1</th>\n",
       "      <th>q1</th>\n",
       "      <th>q1ans</th>\n",
       "      <th>q2</th>\n",
       "      <th>q2ans</th>\n",
       "      <th>q3</th>\n",
       "      <th>q3ans</th>\n",
       "      <th>q4</th>\n",
       "      <th>q4ans</th>\n",
       "      <th>...</th>\n",
       "      <th>moe_9r</th>\n",
       "      <th>moe_10r</th>\n",
       "      <th>moe_11r</th>\n",
       "      <th>moe_12r</th>\n",
       "      <th>moe_13r</th>\n",
       "      <th>moe_14r</th>\n",
       "      <th>moe_15r</th>\n",
       "      <th>moe_16r</th>\n",
       "      <th>moe_17r</th>\n",
       "      <th>moe_18r</th>\n",
       "    </tr>\n",
       "  </thead>\n",
       "  <tbody>\n",
       "    <tr>\n",
       "      <th>0</th>\n",
       "      <td>1</td>\n",
       "      <td>Green</td>\n",
       "      <td>ADD 3</td>\n",
       "      <td>incorrect</td>\n",
       "      <td>DO NOTHING</td>\n",
       "      <td></td>\n",
       "      <td>DO NOTHING</td>\n",
       "      <td></td>\n",
       "      <td>DO NOTHING</td>\n",
       "      <td></td>\n",
       "      <td>...</td>\n",
       "      <td>1</td>\n",
       "      <td>5</td>\n",
       "      <td>1</td>\n",
       "      <td>1</td>\n",
       "      <td>5</td>\n",
       "      <td>4</td>\n",
       "      <td>1</td>\n",
       "      <td>3</td>\n",
       "      <td>5</td>\n",
       "      <td>3</td>\n",
       "    </tr>\n",
       "    <tr>\n",
       "      <th>1</th>\n",
       "      <td>2</td>\n",
       "      <td>Green</td>\n",
       "      <td>DO NOTHING</td>\n",
       "      <td></td>\n",
       "      <td>ADD 3</td>\n",
       "      <td>incorrect</td>\n",
       "      <td>DO NOTHING</td>\n",
       "      <td></td>\n",
       "      <td>ADD 3</td>\n",
       "      <td>incorrect</td>\n",
       "      <td>...</td>\n",
       "      <td>5</td>\n",
       "      <td>3</td>\n",
       "      <td>4</td>\n",
       "      <td>5</td>\n",
       "      <td>3</td>\n",
       "      <td>4</td>\n",
       "      <td>5</td>\n",
       "      <td>4</td>\n",
       "      <td>1</td>\n",
       "      <td>3</td>\n",
       "    </tr>\n",
       "    <tr>\n",
       "      <th>2</th>\n",
       "      <td>3</td>\n",
       "      <td>Green</td>\n",
       "      <td>DO NOTHING</td>\n",
       "      <td></td>\n",
       "      <td>ADD 3</td>\n",
       "      <td>incorrect</td>\n",
       "      <td>ADD 3</td>\n",
       "      <td>incorrect</td>\n",
       "      <td>ADD 3</td>\n",
       "      <td>incorrect</td>\n",
       "      <td>...</td>\n",
       "      <td>5</td>\n",
       "      <td>3</td>\n",
       "      <td>5</td>\n",
       "      <td>5</td>\n",
       "      <td>5</td>\n",
       "      <td>5</td>\n",
       "      <td>5</td>\n",
       "      <td>4</td>\n",
       "      <td>4</td>\n",
       "      <td>1</td>\n",
       "    </tr>\n",
       "    <tr>\n",
       "      <th>3</th>\n",
       "      <td>4</td>\n",
       "      <td>Green</td>\n",
       "      <td>DO NOTHING</td>\n",
       "      <td></td>\n",
       "      <td>ADD 3</td>\n",
       "      <td>correct</td>\n",
       "      <td>DO NOTHING</td>\n",
       "      <td></td>\n",
       "      <td>ADD 3</td>\n",
       "      <td>incorrect</td>\n",
       "      <td>...</td>\n",
       "      <td>5</td>\n",
       "      <td>3</td>\n",
       "      <td>4</td>\n",
       "      <td>4</td>\n",
       "      <td>3</td>\n",
       "      <td>4</td>\n",
       "      <td>4</td>\n",
       "      <td>3</td>\n",
       "      <td>3</td>\n",
       "      <td>3</td>\n",
       "    </tr>\n",
       "    <tr>\n",
       "      <th>4</th>\n",
       "      <td>5</td>\n",
       "      <td>Green</td>\n",
       "      <td>DO NOTHING</td>\n",
       "      <td></td>\n",
       "      <td>DO NOTHING</td>\n",
       "      <td></td>\n",
       "      <td>DO NOTHING</td>\n",
       "      <td></td>\n",
       "      <td>DO NOTHING</td>\n",
       "      <td></td>\n",
       "      <td>...</td>\n",
       "      <td>3</td>\n",
       "      <td>4</td>\n",
       "      <td>4</td>\n",
       "      <td>3</td>\n",
       "      <td>3</td>\n",
       "      <td>4</td>\n",
       "      <td>4</td>\n",
       "      <td>3</td>\n",
       "      <td>4</td>\n",
       "      <td>4</td>\n",
       "    </tr>\n",
       "    <tr>\n",
       "      <th>...</th>\n",
       "      <td>...</td>\n",
       "      <td>...</td>\n",
       "      <td>...</td>\n",
       "      <td>...</td>\n",
       "      <td>...</td>\n",
       "      <td>...</td>\n",
       "      <td>...</td>\n",
       "      <td>...</td>\n",
       "      <td>...</td>\n",
       "      <td>...</td>\n",
       "      <td>...</td>\n",
       "      <td>...</td>\n",
       "      <td>...</td>\n",
       "      <td>...</td>\n",
       "      <td>...</td>\n",
       "      <td>...</td>\n",
       "      <td>...</td>\n",
       "      <td>...</td>\n",
       "      <td>...</td>\n",
       "      <td>...</td>\n",
       "      <td>...</td>\n",
       "    </tr>\n",
       "    <tr>\n",
       "      <th>191</th>\n",
       "      <td>192</td>\n",
       "      <td>Green</td>\n",
       "      <td>DO NOTHING</td>\n",
       "      <td></td>\n",
       "      <td>DO NOTHING</td>\n",
       "      <td></td>\n",
       "      <td>DO NOTHING</td>\n",
       "      <td></td>\n",
       "      <td>DO NOTHING</td>\n",
       "      <td></td>\n",
       "      <td>...</td>\n",
       "      <td>3</td>\n",
       "      <td>3</td>\n",
       "      <td>4</td>\n",
       "      <td>4</td>\n",
       "      <td>3</td>\n",
       "      <td>4</td>\n",
       "      <td>4</td>\n",
       "      <td>4</td>\n",
       "      <td>1</td>\n",
       "      <td>3</td>\n",
       "    </tr>\n",
       "    <tr>\n",
       "      <th>192</th>\n",
       "      <td>193</td>\n",
       "      <td>Green</td>\n",
       "      <td>ADD 3</td>\n",
       "      <td>incorrect</td>\n",
       "      <td>DO NOTHING</td>\n",
       "      <td></td>\n",
       "      <td>ADD 3</td>\n",
       "      <td>correct</td>\n",
       "      <td>DO NOTHING</td>\n",
       "      <td></td>\n",
       "      <td>...</td>\n",
       "      <td>4</td>\n",
       "      <td>1</td>\n",
       "      <td>4</td>\n",
       "      <td>5</td>\n",
       "      <td>3</td>\n",
       "      <td>3</td>\n",
       "      <td>3</td>\n",
       "      <td>4</td>\n",
       "      <td>1</td>\n",
       "      <td>1</td>\n",
       "    </tr>\n",
       "    <tr>\n",
       "      <th>193</th>\n",
       "      <td>194</td>\n",
       "      <td>Green</td>\n",
       "      <td>ADD 3</td>\n",
       "      <td>incorrect</td>\n",
       "      <td>ADD 3</td>\n",
       "      <td>incorrect</td>\n",
       "      <td>ADD 3</td>\n",
       "      <td>incorrect</td>\n",
       "      <td>ADD 3</td>\n",
       "      <td>incorrect</td>\n",
       "      <td>...</td>\n",
       "      <td>4</td>\n",
       "      <td>4</td>\n",
       "      <td>4</td>\n",
       "      <td>4</td>\n",
       "      <td>3</td>\n",
       "      <td>4</td>\n",
       "      <td>4</td>\n",
       "      <td>4</td>\n",
       "      <td>3</td>\n",
       "      <td>3</td>\n",
       "    </tr>\n",
       "    <tr>\n",
       "      <th>194</th>\n",
       "      <td>195</td>\n",
       "      <td>Green</td>\n",
       "      <td>DO NOTHING</td>\n",
       "      <td></td>\n",
       "      <td>ADD 3</td>\n",
       "      <td>correct</td>\n",
       "      <td>DO NOTHING</td>\n",
       "      <td></td>\n",
       "      <td>ADD 3</td>\n",
       "      <td>incorrect</td>\n",
       "      <td>...</td>\n",
       "      <td>4</td>\n",
       "      <td>4</td>\n",
       "      <td>1</td>\n",
       "      <td>4</td>\n",
       "      <td>5</td>\n",
       "      <td>3</td>\n",
       "      <td>3</td>\n",
       "      <td>4</td>\n",
       "      <td>3</td>\n",
       "      <td>3</td>\n",
       "    </tr>\n",
       "    <tr>\n",
       "      <th>195</th>\n",
       "      <td>196</td>\n",
       "      <td>Green</td>\n",
       "      <td>DO NOTHING</td>\n",
       "      <td></td>\n",
       "      <td>DO NOTHING</td>\n",
       "      <td></td>\n",
       "      <td>ADD 3</td>\n",
       "      <td>incorrect</td>\n",
       "      <td>ADD 3</td>\n",
       "      <td>correct</td>\n",
       "      <td>...</td>\n",
       "      <td>4</td>\n",
       "      <td>3</td>\n",
       "      <td>5</td>\n",
       "      <td>4</td>\n",
       "      <td>3</td>\n",
       "      <td>4</td>\n",
       "      <td>4</td>\n",
       "      <td>4</td>\n",
       "      <td>4</td>\n",
       "      <td>4</td>\n",
       "    </tr>\n",
       "  </tbody>\n",
       "</table>\n",
       "<p>196 rows × 240 columns</p>\n",
       "</div>"
      ],
      "text/plain": [
       "     PID attencheck1          q1      q1ans          q2      q2ans  \\\n",
       "0      1       Green       ADD 3  incorrect  DO NOTHING              \n",
       "1      2       Green  DO NOTHING                  ADD 3  incorrect   \n",
       "2      3       Green  DO NOTHING                  ADD 3  incorrect   \n",
       "3      4       Green  DO NOTHING                  ADD 3    correct   \n",
       "4      5       Green  DO NOTHING             DO NOTHING              \n",
       "..   ...         ...         ...        ...         ...        ...   \n",
       "191  192       Green  DO NOTHING             DO NOTHING              \n",
       "192  193       Green       ADD 3  incorrect  DO NOTHING              \n",
       "193  194       Green       ADD 3  incorrect       ADD 3  incorrect   \n",
       "194  195       Green  DO NOTHING                  ADD 3    correct   \n",
       "195  196       Green  DO NOTHING             DO NOTHING              \n",
       "\n",
       "             q3      q3ans          q4      q4ans  ... moe_9r moe_10r moe_11r  \\\n",
       "0    DO NOTHING             DO NOTHING             ...      1       5       1   \n",
       "1    DO NOTHING                  ADD 3  incorrect  ...      5       3       4   \n",
       "2         ADD 3  incorrect       ADD 3  incorrect  ...      5       3       5   \n",
       "3    DO NOTHING                  ADD 3  incorrect  ...      5       3       4   \n",
       "4    DO NOTHING             DO NOTHING             ...      3       4       4   \n",
       "..          ...        ...         ...        ...  ...    ...     ...     ...   \n",
       "191  DO NOTHING             DO NOTHING             ...      3       3       4   \n",
       "192       ADD 3    correct  DO NOTHING             ...      4       1       4   \n",
       "193       ADD 3  incorrect       ADD 3  incorrect  ...      4       4       4   \n",
       "194  DO NOTHING                  ADD 3  incorrect  ...      4       4       1   \n",
       "195       ADD 3  incorrect       ADD 3    correct  ...      4       3       5   \n",
       "\n",
       "    moe_12r moe_13r moe_14r moe_15r moe_16r moe_17r moe_18r  \n",
       "0         1       5       4       1       3       5       3  \n",
       "1         5       3       4       5       4       1       3  \n",
       "2         5       5       5       5       4       4       1  \n",
       "3         4       3       4       4       3       3       3  \n",
       "4         3       3       4       4       3       4       4  \n",
       "..      ...     ...     ...     ...     ...     ...     ...  \n",
       "191       4       3       4       4       4       1       3  \n",
       "192       5       3       3       3       4       1       1  \n",
       "193       4       3       4       4       4       3       3  \n",
       "194       4       5       3       3       4       3       3  \n",
       "195       4       3       4       4       4       4       4  \n",
       "\n",
       "[196 rows x 240 columns]"
      ]
     },
     "execution_count": 132,
     "metadata": {},
     "output_type": "execute_result"
    }
   ],
   "source": [
    "df = pd.read_csv(\"./Study2.csv\")\n",
    "\n",
    "df"
   ]
  },
  {
   "cell_type": "markdown",
   "id": "51f0f5b0",
   "metadata": {},
   "source": [
    "Vi läser in rådatan från studie 2 och undersöker kolumnerna samt raderna (några av dem olika deltagarna (PID)). Rådatan är ganska enkel att förstå tack varje att deras studie är väl utförd samt tydligt förklarad i rapporten. De har även ett dokument men generell info där dem går igenom alla förkorningar och variabler i studien.\n",
    "\n",
    "ADD 3 betyder att deltagaren valt att göra det kognitivt krävande medans DO NOTHING betyder att deltagen just valt att inte göra något kogntivt krävande, något av detta kommer på varje Q (Question). Qans visar hur det gick för deltagaren beroende på valet. Om deltagaren valt DO NOTHING så är det blankt, detta för att man inte har något resultat. Valde man istället ADD 3 så visas antingen CORRECT om man räknat rätt eller INCORRECT om man räknat fel."
   ]
  },
  {
   "cell_type": "code",
   "execution_count": 133,
   "id": "c856f410",
   "metadata": {},
   "outputs": [
    {
     "data": {
      "text/plain": [
       "array(['PID', 'attencheck1', 'q1', 'q1ans', 'q2', 'q2ans', 'q3', 'q3ans',\n",
       "       'q4', 'q4ans', 'q5', 'q5ans', 'q6', 'q6ans', 'q7', 'q7ans', 'q8',\n",
       "       'q8ans', 'q9', 'q9ans', 'q10', 'q10ans', 'first_deckA_mental',\n",
       "       'first_deckA_boredom', 'first_deckB_mental', 'first_deckB_boredom',\n",
       "       'q11', 'q11ans', 'q12', 'q12ans', 'q13', 'q13ans', 'q14', 'q14ans',\n",
       "       'q15', 'q15ans', 'q16', 'q16ans', 'q17', 'q17ans', 'q18', 'q18ans',\n",
       "       'q19', 'q19ans', 'q20', 'q20ans', 'second_deckA_mental',\n",
       "       'second_deckA_boredom', 'second_deckB_mental',\n",
       "       'second_deckB_boredom', 'q21', 'q21ans', 'q22', 'q22ans', 'q23',\n",
       "       'q23ans', 'q24', 'q24ans', 'q25', 'q25ans', 'q26', 'q26ans', 'q27',\n",
       "       'q27ans', 'q28', 'q28ans', 'q29', 'q29ans', 'q30', 'q30ans',\n",
       "       'third_deckA_mental', 'third_deckA_boredom', 'third_deckB_mental',\n",
       "       'third_deckB_boredom', 'q31', 'q31ans', 'q32', 'q32ans', 'q33',\n",
       "       'q33ans', 'q34', 'q34ans', 'q35', 'q35ans', 'q36', 'q36ans', 'q37',\n",
       "       'q37ans', 'q38', 'q38ans', 'q39', 'q39ans', 'q40', 'q40ans',\n",
       "       'fourth_deckA_mental', 'fourth_deckA_boredom',\n",
       "       'fourth_deckB_mental', 'fourth_deckB_boredom', 'q41', 'q41ans',\n",
       "       'q42', 'q42ans', 'q43', 'q43ans', 'q44', 'q44ans', 'q45', 'q45ans',\n",
       "       'q46', 'q46ans', 'q47', 'q47ans', 'q48', 'q48ans', 'q49', 'q49ans',\n",
       "       'q50', 'q50ans', 'fifth_deckA_mental', 'fifth_deckA_boredom',\n",
       "       'fifth_deckB_mental', 'fifth_deckB_boredom', 'q51', 'q51ans',\n",
       "       'q52', 'q52ans', 'q53', 'q53ans', 'q54', 'q54ans', 'q55', 'q55ans',\n",
       "       'q56', 'q56ans', 'q57', 'q57ans', 'q58', 'q58ans', 'q59', 'q59ans',\n",
       "       'q60', 'q60ans', 'sixth_deckA_mental', 'sixth_deckA_boredom',\n",
       "       'sixth_deckB_mental', 'sixth_deckB_boredom', 'q61', 'q61ans',\n",
       "       'q62', 'q62ans', 'q63', 'q63ans', 'q64', 'q64ans', 'q65', 'q65ans',\n",
       "       'q66', 'q66ans', 'q67', 'q67ans', 'q68', 'q68ans', 'q69', 'q69ans',\n",
       "       'q70', 'q70ans', 'seventh_deckA_mental', 'seventh_deckA_boredom',\n",
       "       'seventh_deckB_mental', 'seventh_deckB_boredom', 'q71', 'q71ans',\n",
       "       'q72', 'q72ans', 'q73', 'q73ans', 'q74', 'q74ans', 'q75', 'q75ans',\n",
       "       'q76', 'q76ans', 'q77', 'q77ans', 'q78', 'q78ans', 'q79', 'q79ans',\n",
       "       'q80', 'q80ans', 'eigth_deckA_mental', 'eigth_deckA_boredom',\n",
       "       'eigth_deckB_mental', 'eigth_deckB_boredom', 'selfadmit',\n",
       "       'attencheck2', 'nfc_1r', 'nfc_2r', 'nfc_3r', 'nfc_4r', 'nfc_5r',\n",
       "       'nfc_6r', 'nfc_7r', 'nfc_8r', 'nfc_9r', 'nfc_10r', 'nfc_11r',\n",
       "       'nfc_12r', 'nfc_13r', 'nfc_14r', 'nfc_15r', 'nfc_16r', 'nfc_17r',\n",
       "       'nfc_18r', 'bps_1r', 'bps_2r', 'bps_3r', 'bps_4r', 'bps_5r',\n",
       "       'bps_6r', 'bps_7r', 'bps_8r', 'moe_1r', 'moe_2r', 'moe_3r',\n",
       "       'moe_4r', 'moe_5r', 'moe_6r', 'moe_7r', 'moe_8r', 'moe_9r',\n",
       "       'moe_10r', 'moe_11r', 'moe_12r', 'moe_13r', 'moe_14r', 'moe_15r',\n",
       "       'moe_16r', 'moe_17r', 'moe_18r'], dtype=object)"
      ]
     },
     "execution_count": 133,
     "metadata": {},
     "output_type": "execute_result"
    }
   ],
   "source": [
    "df.columns.values"
   ]
  },
  {
   "cell_type": "markdown",
   "id": "a769a9d0",
   "metadata": {},
   "source": [
    "I denna cell försöker vi få en bättre uppfattning över vad dem olika kolumnerna innehåller. Detta gör vi genom att kolla på kolumnnamnen. Vi kan då med hjälp av informationen vi fått av skribenterna (generell info docs) kolla på vilka kolumner som innehåller information som är intressant för våra frågor och därefter börja utesluta data som är ointressant för oss."
   ]
  },
  {
   "cell_type": "code",
   "execution_count": 134,
   "id": "389128c6",
   "metadata": {},
   "outputs": [],
   "source": [
    "df.drop([\"first_deckA_mental\", \"first_deckA_boredom\", \"first_deckB_mental\", \"first_deckB_boredom\",\n",
    "         \"second_deckA_mental\", \"second_deckA_boredom\", \"second_deckB_mental\", \"second_deckB_boredom\",\n",
    "          \"third_deckA_mental\", \"third_deckA_boredom\", \"third_deckB_mental\", \"third_deckB_boredom\",\n",
    "           \"fourth_deckA_mental\", \"fourth_deckA_boredom\", \"fourth_deckB_mental\", \"fourth_deckB_boredom\",\n",
    "           \"fifth_deckA_mental\", \"fifth_deckA_boredom\", \"fifth_deckB_mental\", \"fifth_deckB_boredom\",\n",
    "           \"sixth_deckA_mental\", \"sixth_deckA_boredom\", \"sixth_deckB_mental\", \"sixth_deckB_boredom\",\n",
    "           \"seventh_deckA_mental\", \"seventh_deckA_boredom\", \"seventh_deckB_mental\", \"seventh_deckB_boredom\",\n",
    "           \"eigth_deckA_mental\", \"eigth_deckA_boredom\", \"eigth_deckB_mental\", \"eigth_deckB_boredom\"],\n",
    "           axis=1, inplace=True)"
   ]
  },
  {
   "cell_type": "markdown",
   "id": "c6cbaaf8",
   "metadata": {},
   "source": [
    "I denna cell har vi identifierat massa kolumner som vi väljer att ta bort. Det är egentligen samma frågor som frågas efter var 10:de fråga, hur mentalt jobbigt de olika uppgifterna var samt hur tråkiga vardera var."
   ]
  },
  {
   "cell_type": "code",
   "execution_count": 135,
   "id": "11aefaf3",
   "metadata": {},
   "outputs": [],
   "source": [
    "df.drop([\"bps_1r\", \"bps_2r\", \"bps_3r\", \"bps_4r\", \"bps_5r\", \"bps_6r\", \"bps_7r\", \"bps_8r\",\n",
    "         \"moe_1r\", \"moe_2r\", \"moe_3r\", \"moe_4r\", \"moe_5r\", \"moe_6r\", \"moe_7r\", \n",
    "         \"moe_8r\", \"moe_9r\", \"moe_10r\", \"moe_11r\", \"moe_12r\", \"moe_13r\", \"moe_14r\",\n",
    "         \"moe_15r\", \"moe_16r\", \"moe_17r\", \"moe_18r\"], axis=1, inplace=True)"
   ]
  },
  {
   "cell_type": "markdown",
   "id": "34c9af54",
   "metadata": {},
   "source": [
    "I denna cell tar vi bort fler frågor som ställs. BPS står för Boredom Proneness och MOE för Meaningfulness of Effort. Ingen av dessa är något vi kollar på i denna analys. Något vi dock behåller är NFC, Need for Cognition, där deltagaren får svara på frågor om hur de hanterar och vad de tycker om kognitivt krävande uppgifter."
   ]
  },
  {
   "cell_type": "code",
   "execution_count": 136,
   "id": "d73c34c7",
   "metadata": {},
   "outputs": [],
   "source": [
    "df.drop(['q1ans', 'q2ans','q3ans', 'q4ans', 'q5ans', 'q6ans', 'q7ans','q8ans', 'q9ans', 'q10ans', 'q11ans',\n",
    "            'q12ans', 'q13ans','q14ans','q15ans','q16ans', 'q17ans','q18ans','q19ans','q20ans','q21ans','q22ans',\n",
    "            'q23ans', 'q24ans','q25ans', 'q26ans','q27ans', 'q28ans','q29ans','q30ans','q31ans', 'q32ans','q33ans',\n",
    "            'q34ans','q35ans','q36ans','q37ans','q38ans','q39ans','q40ans', 'q41ans', 'q42ans','q43ans', 'q44ans',\n",
    "            'q45ans', 'q46ans', 'q47ans','q48ans', 'q49ans', 'q50ans', 'q51ans','q52ans', 'q53ans','q54ans','q55ans',\n",
    "            'q56ans', 'q57ans','q58ans','q59ans','q60ans','q61ans','q62ans','q63ans', 'q64ans','q65ans', 'q66ans',\n",
    "            'q67ans', 'q68ans','q69ans','q70ans','q71ans', 'q72ans','q73ans','q74ans','q75ans','q76ans','q77ans',\n",
    "            'q78ans','q79ans','q80ans', ], axis=1, inplace=True)"
   ]
  },
  {
   "cell_type": "markdown",
   "id": "031b03dd",
   "metadata": {},
   "source": [
    "I denna cell tar vi bort alla svar på vardera fråga i och med att vi inte bryr oss om hur deras svar var, endast vad de valde. Ifall någon räkna fel eller inte på uppgiften spelar ingen roll."
   ]
  },
  {
   "cell_type": "markdown",
   "id": "36acf313",
   "metadata": {},
   "source": [
    "Vi har nu alltså tagit bort alla kolumner som är irrelevanta för vår frågeställning och som vi inte behöver göra något annat med. "
   ]
  },
  {
   "cell_type": "markdown",
   "id": "7499dc80",
   "metadata": {},
   "source": [
    "Nedan tar vi även bort alla deltagare som inte var fokuserade på studien. Alltså om de svarat fel på attention check-frågorna samt om de själva erkänt att de ej var fokuserade. "
   ]
  },
  {
   "cell_type": "code",
   "execution_count": 137,
   "id": "10cad2b6",
   "metadata": {},
   "outputs": [
    {
     "data": {
      "text/plain": [
       "attencheck1\n",
       "Green     176\n",
       "Yellow     20\n",
       "Name: count, dtype: int64"
      ]
     },
     "execution_count": 137,
     "metadata": {},
     "output_type": "execute_result"
    }
   ],
   "source": [
    "df[\"attencheck1\"].value_counts()"
   ]
  },
  {
   "cell_type": "code",
   "execution_count": 138,
   "id": "f34ae541",
   "metadata": {},
   "outputs": [],
   "source": [
    "df = df.drop(df[df[\"attencheck1\"] == \"Yellow\"].index)"
   ]
  },
  {
   "cell_type": "code",
   "execution_count": 139,
   "id": "9de8f438",
   "metadata": {},
   "outputs": [
    {
     "data": {
      "text/plain": [
       "attencheck1\n",
       "Green    176\n",
       "Name: count, dtype: int64"
      ]
     },
     "execution_count": 139,
     "metadata": {},
     "output_type": "execute_result"
    }
   ],
   "source": [
    "df[\"attencheck1\"].value_counts()"
   ]
  },
  {
   "cell_type": "code",
   "execution_count": 140,
   "id": "9e726ba0",
   "metadata": {},
   "outputs": [
    {
     "data": {
      "text/plain": [
       "attencheck2\n",
       "Blue    176\n",
       "Name: count, dtype: int64"
      ]
     },
     "execution_count": 140,
     "metadata": {},
     "output_type": "execute_result"
    }
   ],
   "source": [
    "df[\"attencheck2\"].value_counts()"
   ]
  },
  {
   "cell_type": "code",
   "execution_count": 141,
   "id": "b5717a01",
   "metadata": {},
   "outputs": [
    {
     "data": {
      "text/plain": [
       "selfadmit\n",
       "No     92\n",
       "Yes    84\n",
       "Name: count, dtype: int64"
      ]
     },
     "execution_count": 141,
     "metadata": {},
     "output_type": "execute_result"
    }
   ],
   "source": [
    "df[\"selfadmit\"].value_counts()"
   ]
  },
  {
   "cell_type": "code",
   "execution_count": 142,
   "id": "a949bad2",
   "metadata": {},
   "outputs": [],
   "source": [
    "df = df.drop(df[df[\"selfadmit\"] == \"Yes\"].index)"
   ]
  },
  {
   "cell_type": "code",
   "execution_count": 143,
   "id": "b8912319",
   "metadata": {},
   "outputs": [
    {
     "data": {
      "text/plain": [
       "selfadmit\n",
       "No    92\n",
       "Name: count, dtype: int64"
      ]
     },
     "execution_count": 143,
     "metadata": {},
     "output_type": "execute_result"
    }
   ],
   "source": [
    "df[\"selfadmit\"].value_counts()"
   ]
  },
  {
   "cell_type": "code",
   "execution_count": 144,
   "id": "416d52ac",
   "metadata": {},
   "outputs": [],
   "source": [
    "df.drop([\"attencheck1\", \"selfadmit\", \"attencheck2\"], axis=1, inplace=True)"
   ]
  },
  {
   "cell_type": "markdown",
   "id": "6ebb3574",
   "metadata": {},
   "source": [
    "Efter rensningen av deltagare som ej varit fokuserade tar vi bort kolumnerna, eftersom de ej längre behövs för vår fråga. "
   ]
  },
  {
   "cell_type": "code",
   "execution_count": 145,
   "id": "41279775",
   "metadata": {},
   "outputs": [
    {
     "data": {
      "text/plain": [
       "array(['PID', 'q1', 'q2', 'q3', 'q4', 'q5', 'q6', 'q7', 'q8', 'q9', 'q10',\n",
       "       'q11', 'q12', 'q13', 'q14', 'q15', 'q16', 'q17', 'q18', 'q19',\n",
       "       'q20', 'q21', 'q22', 'q23', 'q24', 'q25', 'q26', 'q27', 'q28',\n",
       "       'q29', 'q30', 'q31', 'q32', 'q33', 'q34', 'q35', 'q36', 'q37',\n",
       "       'q38', 'q39', 'q40', 'q41', 'q42', 'q43', 'q44', 'q45', 'q46',\n",
       "       'q47', 'q48', 'q49', 'q50', 'q51', 'q52', 'q53', 'q54', 'q55',\n",
       "       'q56', 'q57', 'q58', 'q59', 'q60', 'q61', 'q62', 'q63', 'q64',\n",
       "       'q65', 'q66', 'q67', 'q68', 'q69', 'q70', 'q71', 'q72', 'q73',\n",
       "       'q74', 'q75', 'q76', 'q77', 'q78', 'q79', 'q80', 'nfc_1r',\n",
       "       'nfc_2r', 'nfc_3r', 'nfc_4r', 'nfc_5r', 'nfc_6r', 'nfc_7r',\n",
       "       'nfc_8r', 'nfc_9r', 'nfc_10r', 'nfc_11r', 'nfc_12r', 'nfc_13r',\n",
       "       'nfc_14r', 'nfc_15r', 'nfc_16r', 'nfc_17r', 'nfc_18r'],\n",
       "      dtype=object)"
      ]
     },
     "execution_count": 145,
     "metadata": {},
     "output_type": "execute_result"
    }
   ],
   "source": [
    "df.columns.values"
   ]
  },
  {
   "cell_type": "code",
   "execution_count": 146,
   "id": "96717c95",
   "metadata": {},
   "outputs": [],
   "source": [
    "df['PID'] = range(1, len(df) + 1)"
   ]
  },
  {
   "cell_type": "markdown",
   "id": "04ce7ff6",
   "metadata": {},
   "source": [
    "Vi återsäller deltagarnas nummer (PID) så att det blir tydligare."
   ]
  },
  {
   "cell_type": "code",
   "execution_count": 147,
   "id": "6a37619d",
   "metadata": {},
   "outputs": [
    {
     "data": {
      "text/plain": [
       "\"nfc = df.drop(['q1', 'q2','q3', 'q4', 'q5', 'q6', 'q7','q8', 'q9', 'q10', 'q11',\\n            'q12', 'q13','q14','q15','q16', 'q17','q18','q19','q20','q21','q22',\\n            'q23', 'q24','q25', 'q26','q27', 'q28','q29','q30','q31', 'q32','q33',\\n            'q34','q35','q36','q37','q38','q39','q40','q41', 'q42','q43', 'q44', 'q45',\\n            'q46', 'q47','q48', 'q49', 'q50', 'q51','q52', 'q53','q54','q55','q56',\\n            'q57','q58','q59','q60','q61','q62','q63', 'q64','q65', 'q66','q67',\\n            'q68','q69','q70','q71', 'q72','q73','q74','q75','q76','q77','q78','q79','q80']\\n            , axis=1, inplace=True)\\n\\nnfc = df.to_csv('Study2_nfc.csv', index= False)\""
      ]
     },
     "execution_count": 147,
     "metadata": {},
     "output_type": "execute_result"
    }
   ],
   "source": [
    "\"\"\"nfc = df.drop(['q1', 'q2','q3', 'q4', 'q5', 'q6', 'q7','q8', 'q9', 'q10', 'q11',\n",
    "            'q12', 'q13','q14','q15','q16', 'q17','q18','q19','q20','q21','q22',\n",
    "            'q23', 'q24','q25', 'q26','q27', 'q28','q29','q30','q31', 'q32','q33',\n",
    "            'q34','q35','q36','q37','q38','q39','q40','q41', 'q42','q43', 'q44', 'q45',\n",
    "            'q46', 'q47','q48', 'q49', 'q50', 'q51','q52', 'q53','q54','q55','q56',\n",
    "            'q57','q58','q59','q60','q61','q62','q63', 'q64','q65', 'q66','q67',\n",
    "            'q68','q69','q70','q71', 'q72','q73','q74','q75','q76','q77','q78','q79','q80']\n",
    "            , axis=1, inplace=True)\n",
    "\n",
    "nfc = df.to_csv('Study2_nfc.csv', index= False)\"\"\""
   ]
  },
  {
   "cell_type": "markdown",
   "id": "45e69344",
   "metadata": {},
   "source": [
    "Eftersom vi även vill analysera effekten av individuella skillnader (Need of Cognition) skapar vi en ny dataframe med endast deltagarnas poäng för nfc. Vi läser in den för att se att allt är korrekt \n",
    "\n",
    "**OBS:** KOM IHÅG att kommentera ut cellen ovan andra gången ni kör koden!!"
   ]
  },
  {
   "cell_type": "code",
   "execution_count": 148,
   "id": "4504609f",
   "metadata": {},
   "outputs": [],
   "source": [
    "nfc = pd.read_csv(\"./Study2_nfc.csv\")"
   ]
  },
  {
   "cell_type": "markdown",
   "id": "3b6d74a6",
   "metadata": {},
   "source": [
    "NFC-poängen räknas från 1-5, där högt poäng innebär högre need for cognition. "
   ]
  },
  {
   "cell_type": "code",
   "execution_count": 149,
   "id": "ee9a29ef",
   "metadata": {},
   "outputs": [
    {
     "data": {
      "text/html": [
       "<div>\n",
       "<style scoped>\n",
       "    .dataframe tbody tr th:only-of-type {\n",
       "        vertical-align: middle;\n",
       "    }\n",
       "\n",
       "    .dataframe tbody tr th {\n",
       "        vertical-align: top;\n",
       "    }\n",
       "\n",
       "    .dataframe thead th {\n",
       "        text-align: right;\n",
       "    }\n",
       "</style>\n",
       "<table border=\"1\" class=\"dataframe\">\n",
       "  <thead>\n",
       "    <tr style=\"text-align: right;\">\n",
       "      <th></th>\n",
       "      <th>PID</th>\n",
       "      <th>nfc_1r</th>\n",
       "      <th>nfc_2r</th>\n",
       "      <th>nfc_3r</th>\n",
       "      <th>nfc_4r</th>\n",
       "      <th>nfc_5r</th>\n",
       "      <th>nfc_6r</th>\n",
       "      <th>nfc_7r</th>\n",
       "      <th>nfc_8r</th>\n",
       "      <th>nfc_9r</th>\n",
       "      <th>nfc_10r</th>\n",
       "      <th>nfc_11r</th>\n",
       "      <th>nfc_12r</th>\n",
       "      <th>nfc_13r</th>\n",
       "      <th>nfc_14r</th>\n",
       "      <th>nfc_15r</th>\n",
       "      <th>nfc_16r</th>\n",
       "      <th>nfc_17r</th>\n",
       "      <th>nfc_18r</th>\n",
       "      <th>nfc_mean</th>\n",
       "    </tr>\n",
       "  </thead>\n",
       "  <tbody>\n",
       "    <tr>\n",
       "      <th>0</th>\n",
       "      <td>1</td>\n",
       "      <td>1</td>\n",
       "      <td>2</td>\n",
       "      <td>2</td>\n",
       "      <td>4</td>\n",
       "      <td>2</td>\n",
       "      <td>5</td>\n",
       "      <td>4</td>\n",
       "      <td>5</td>\n",
       "      <td>5</td>\n",
       "      <td>5</td>\n",
       "      <td>4</td>\n",
       "      <td>2</td>\n",
       "      <td>2</td>\n",
       "      <td>5</td>\n",
       "      <td>5</td>\n",
       "      <td>5</td>\n",
       "      <td>3</td>\n",
       "      <td>5</td>\n",
       "      <td>3.67</td>\n",
       "    </tr>\n",
       "    <tr>\n",
       "      <th>1</th>\n",
       "      <td>2</td>\n",
       "      <td>3</td>\n",
       "      <td>3</td>\n",
       "      <td>1</td>\n",
       "      <td>2</td>\n",
       "      <td>1</td>\n",
       "      <td>1</td>\n",
       "      <td>5</td>\n",
       "      <td>4</td>\n",
       "      <td>3</td>\n",
       "      <td>4</td>\n",
       "      <td>5</td>\n",
       "      <td>1</td>\n",
       "      <td>4</td>\n",
       "      <td>3</td>\n",
       "      <td>3</td>\n",
       "      <td>5</td>\n",
       "      <td>3</td>\n",
       "      <td>3</td>\n",
       "      <td>3.00</td>\n",
       "    </tr>\n",
       "    <tr>\n",
       "      <th>2</th>\n",
       "      <td>3</td>\n",
       "      <td>2</td>\n",
       "      <td>3</td>\n",
       "      <td>3</td>\n",
       "      <td>4</td>\n",
       "      <td>3</td>\n",
       "      <td>3</td>\n",
       "      <td>2</td>\n",
       "      <td>3</td>\n",
       "      <td>4</td>\n",
       "      <td>4</td>\n",
       "      <td>2</td>\n",
       "      <td>4</td>\n",
       "      <td>2</td>\n",
       "      <td>2</td>\n",
       "      <td>2</td>\n",
       "      <td>4</td>\n",
       "      <td>4</td>\n",
       "      <td>4</td>\n",
       "      <td>3.06</td>\n",
       "    </tr>\n",
       "    <tr>\n",
       "      <th>3</th>\n",
       "      <td>4</td>\n",
       "      <td>3</td>\n",
       "      <td>5</td>\n",
       "      <td>1</td>\n",
       "      <td>1</td>\n",
       "      <td>2</td>\n",
       "      <td>5</td>\n",
       "      <td>1</td>\n",
       "      <td>3</td>\n",
       "      <td>4</td>\n",
       "      <td>5</td>\n",
       "      <td>5</td>\n",
       "      <td>2</td>\n",
       "      <td>2</td>\n",
       "      <td>4</td>\n",
       "      <td>1</td>\n",
       "      <td>3</td>\n",
       "      <td>5</td>\n",
       "      <td>5</td>\n",
       "      <td>3.17</td>\n",
       "    </tr>\n",
       "    <tr>\n",
       "      <th>4</th>\n",
       "      <td>5</td>\n",
       "      <td>4</td>\n",
       "      <td>5</td>\n",
       "      <td>2</td>\n",
       "      <td>1</td>\n",
       "      <td>1</td>\n",
       "      <td>5</td>\n",
       "      <td>3</td>\n",
       "      <td>1</td>\n",
       "      <td>4</td>\n",
       "      <td>5</td>\n",
       "      <td>5</td>\n",
       "      <td>2</td>\n",
       "      <td>3</td>\n",
       "      <td>4</td>\n",
       "      <td>3</td>\n",
       "      <td>5</td>\n",
       "      <td>1</td>\n",
       "      <td>5</td>\n",
       "      <td>3.28</td>\n",
       "    </tr>\n",
       "    <tr>\n",
       "      <th>...</th>\n",
       "      <td>...</td>\n",
       "      <td>...</td>\n",
       "      <td>...</td>\n",
       "      <td>...</td>\n",
       "      <td>...</td>\n",
       "      <td>...</td>\n",
       "      <td>...</td>\n",
       "      <td>...</td>\n",
       "      <td>...</td>\n",
       "      <td>...</td>\n",
       "      <td>...</td>\n",
       "      <td>...</td>\n",
       "      <td>...</td>\n",
       "      <td>...</td>\n",
       "      <td>...</td>\n",
       "      <td>...</td>\n",
       "      <td>...</td>\n",
       "      <td>...</td>\n",
       "      <td>...</td>\n",
       "      <td>...</td>\n",
       "    </tr>\n",
       "    <tr>\n",
       "      <th>87</th>\n",
       "      <td>88</td>\n",
       "      <td>4</td>\n",
       "      <td>3</td>\n",
       "      <td>4</td>\n",
       "      <td>5</td>\n",
       "      <td>5</td>\n",
       "      <td>4</td>\n",
       "      <td>3</td>\n",
       "      <td>5</td>\n",
       "      <td>4</td>\n",
       "      <td>5</td>\n",
       "      <td>4</td>\n",
       "      <td>3</td>\n",
       "      <td>4</td>\n",
       "      <td>4</td>\n",
       "      <td>4</td>\n",
       "      <td>5</td>\n",
       "      <td>4</td>\n",
       "      <td>3</td>\n",
       "      <td>4.06</td>\n",
       "    </tr>\n",
       "    <tr>\n",
       "      <th>88</th>\n",
       "      <td>89</td>\n",
       "      <td>2</td>\n",
       "      <td>4</td>\n",
       "      <td>3</td>\n",
       "      <td>2</td>\n",
       "      <td>2</td>\n",
       "      <td>4</td>\n",
       "      <td>4</td>\n",
       "      <td>3</td>\n",
       "      <td>4</td>\n",
       "      <td>4</td>\n",
       "      <td>4</td>\n",
       "      <td>4</td>\n",
       "      <td>4</td>\n",
       "      <td>4</td>\n",
       "      <td>4</td>\n",
       "      <td>5</td>\n",
       "      <td>3</td>\n",
       "      <td>4</td>\n",
       "      <td>3.56</td>\n",
       "    </tr>\n",
       "    <tr>\n",
       "      <th>89</th>\n",
       "      <td>90</td>\n",
       "      <td>2</td>\n",
       "      <td>1</td>\n",
       "      <td>4</td>\n",
       "      <td>4</td>\n",
       "      <td>4</td>\n",
       "      <td>1</td>\n",
       "      <td>5</td>\n",
       "      <td>5</td>\n",
       "      <td>1</td>\n",
       "      <td>1</td>\n",
       "      <td>2</td>\n",
       "      <td>5</td>\n",
       "      <td>1</td>\n",
       "      <td>3</td>\n",
       "      <td>1</td>\n",
       "      <td>2</td>\n",
       "      <td>5</td>\n",
       "      <td>2</td>\n",
       "      <td>2.72</td>\n",
       "    </tr>\n",
       "    <tr>\n",
       "      <th>90</th>\n",
       "      <td>91</td>\n",
       "      <td>4</td>\n",
       "      <td>3</td>\n",
       "      <td>2</td>\n",
       "      <td>2</td>\n",
       "      <td>2</td>\n",
       "      <td>3</td>\n",
       "      <td>4</td>\n",
       "      <td>1</td>\n",
       "      <td>4</td>\n",
       "      <td>4</td>\n",
       "      <td>4</td>\n",
       "      <td>2</td>\n",
       "      <td>4</td>\n",
       "      <td>2</td>\n",
       "      <td>4</td>\n",
       "      <td>4</td>\n",
       "      <td>2</td>\n",
       "      <td>2</td>\n",
       "      <td>2.94</td>\n",
       "    </tr>\n",
       "    <tr>\n",
       "      <th>91</th>\n",
       "      <td>92</td>\n",
       "      <td>4</td>\n",
       "      <td>4</td>\n",
       "      <td>2</td>\n",
       "      <td>3</td>\n",
       "      <td>3</td>\n",
       "      <td>4</td>\n",
       "      <td>3</td>\n",
       "      <td>3</td>\n",
       "      <td>4</td>\n",
       "      <td>4</td>\n",
       "      <td>4</td>\n",
       "      <td>4</td>\n",
       "      <td>5</td>\n",
       "      <td>3</td>\n",
       "      <td>4</td>\n",
       "      <td>4</td>\n",
       "      <td>3</td>\n",
       "      <td>3</td>\n",
       "      <td>3.56</td>\n",
       "    </tr>\n",
       "  </tbody>\n",
       "</table>\n",
       "<p>92 rows × 20 columns</p>\n",
       "</div>"
      ],
      "text/plain": [
       "    PID  nfc_1r  nfc_2r  nfc_3r  nfc_4r  nfc_5r  nfc_6r  nfc_7r  nfc_8r  \\\n",
       "0     1       1       2       2       4       2       5       4       5   \n",
       "1     2       3       3       1       2       1       1       5       4   \n",
       "2     3       2       3       3       4       3       3       2       3   \n",
       "3     4       3       5       1       1       2       5       1       3   \n",
       "4     5       4       5       2       1       1       5       3       1   \n",
       "..  ...     ...     ...     ...     ...     ...     ...     ...     ...   \n",
       "87   88       4       3       4       5       5       4       3       5   \n",
       "88   89       2       4       3       2       2       4       4       3   \n",
       "89   90       2       1       4       4       4       1       5       5   \n",
       "90   91       4       3       2       2       2       3       4       1   \n",
       "91   92       4       4       2       3       3       4       3       3   \n",
       "\n",
       "    nfc_9r  nfc_10r  nfc_11r  nfc_12r  nfc_13r  nfc_14r  nfc_15r  nfc_16r  \\\n",
       "0        5        5        4        2        2        5        5        5   \n",
       "1        3        4        5        1        4        3        3        5   \n",
       "2        4        4        2        4        2        2        2        4   \n",
       "3        4        5        5        2        2        4        1        3   \n",
       "4        4        5        5        2        3        4        3        5   \n",
       "..     ...      ...      ...      ...      ...      ...      ...      ...   \n",
       "87       4        5        4        3        4        4        4        5   \n",
       "88       4        4        4        4        4        4        4        5   \n",
       "89       1        1        2        5        1        3        1        2   \n",
       "90       4        4        4        2        4        2        4        4   \n",
       "91       4        4        4        4        5        3        4        4   \n",
       "\n",
       "    nfc_17r  nfc_18r  nfc_mean  \n",
       "0         3        5      3.67  \n",
       "1         3        3      3.00  \n",
       "2         4        4      3.06  \n",
       "3         5        5      3.17  \n",
       "4         1        5      3.28  \n",
       "..      ...      ...       ...  \n",
       "87        4        3      4.06  \n",
       "88        3        4      3.56  \n",
       "89        5        2      2.72  \n",
       "90        2        2      2.94  \n",
       "91        3        3      3.56  \n",
       "\n",
       "[92 rows x 20 columns]"
      ]
     },
     "execution_count": 149,
     "metadata": {},
     "output_type": "execute_result"
    }
   ],
   "source": [
    "nfc[\"nfc_mean\"] = nfc.drop(columns=[\"PID\"]).mean(axis=1).round(2)\n",
    "\n",
    "nfc\n"
   ]
  },
  {
   "cell_type": "markdown",
   "id": "c6e66e58",
   "metadata": {},
   "source": [
    "Vi räknar medelvärdet för Need of Cognition-poängen för varje deltagare och avrundar till två decimaler. Vi skapar en ny kolumn för medelvärden. Sedan kan vi ta bort alla enskilda nfc_Nr-kolumner så att vi bara har 'PID' och 'nfc_mean'"
   ]
  },
  {
   "cell_type": "code",
   "execution_count": 150,
   "id": "01eb82bb",
   "metadata": {},
   "outputs": [
    {
     "data": {
      "text/html": [
       "<div>\n",
       "<style scoped>\n",
       "    .dataframe tbody tr th:only-of-type {\n",
       "        vertical-align: middle;\n",
       "    }\n",
       "\n",
       "    .dataframe tbody tr th {\n",
       "        vertical-align: top;\n",
       "    }\n",
       "\n",
       "    .dataframe thead th {\n",
       "        text-align: right;\n",
       "    }\n",
       "</style>\n",
       "<table border=\"1\" class=\"dataframe\">\n",
       "  <thead>\n",
       "    <tr style=\"text-align: right;\">\n",
       "      <th></th>\n",
       "      <th>PID</th>\n",
       "      <th>nfc_mean</th>\n",
       "    </tr>\n",
       "  </thead>\n",
       "  <tbody>\n",
       "    <tr>\n",
       "      <th>0</th>\n",
       "      <td>1</td>\n",
       "      <td>3.67</td>\n",
       "    </tr>\n",
       "    <tr>\n",
       "      <th>1</th>\n",
       "      <td>2</td>\n",
       "      <td>3.00</td>\n",
       "    </tr>\n",
       "    <tr>\n",
       "      <th>2</th>\n",
       "      <td>3</td>\n",
       "      <td>3.06</td>\n",
       "    </tr>\n",
       "    <tr>\n",
       "      <th>3</th>\n",
       "      <td>4</td>\n",
       "      <td>3.17</td>\n",
       "    </tr>\n",
       "    <tr>\n",
       "      <th>4</th>\n",
       "      <td>5</td>\n",
       "      <td>3.28</td>\n",
       "    </tr>\n",
       "    <tr>\n",
       "      <th>...</th>\n",
       "      <td>...</td>\n",
       "      <td>...</td>\n",
       "    </tr>\n",
       "    <tr>\n",
       "      <th>87</th>\n",
       "      <td>88</td>\n",
       "      <td>4.06</td>\n",
       "    </tr>\n",
       "    <tr>\n",
       "      <th>88</th>\n",
       "      <td>89</td>\n",
       "      <td>3.56</td>\n",
       "    </tr>\n",
       "    <tr>\n",
       "      <th>89</th>\n",
       "      <td>90</td>\n",
       "      <td>2.72</td>\n",
       "    </tr>\n",
       "    <tr>\n",
       "      <th>90</th>\n",
       "      <td>91</td>\n",
       "      <td>2.94</td>\n",
       "    </tr>\n",
       "    <tr>\n",
       "      <th>91</th>\n",
       "      <td>92</td>\n",
       "      <td>3.56</td>\n",
       "    </tr>\n",
       "  </tbody>\n",
       "</table>\n",
       "<p>92 rows × 2 columns</p>\n",
       "</div>"
      ],
      "text/plain": [
       "    PID  nfc_mean\n",
       "0     1      3.67\n",
       "1     2      3.00\n",
       "2     3      3.06\n",
       "3     4      3.17\n",
       "4     5      3.28\n",
       "..  ...       ...\n",
       "87   88      4.06\n",
       "88   89      3.56\n",
       "89   90      2.72\n",
       "90   91      2.94\n",
       "91   92      3.56\n",
       "\n",
       "[92 rows x 2 columns]"
      ]
     },
     "execution_count": 150,
     "metadata": {},
     "output_type": "execute_result"
    }
   ],
   "source": [
    "nfc.drop([\"nfc_1r\", \"nfc_2r\", \"nfc_3r\", \"nfc_4r\", \"nfc_5r\", \"nfc_6r\",\"nfc_7r\", \"nfc_8r\",\n",
    "         \"nfc_9r\", \"nfc_10r\", \"nfc_11r\", \"nfc_12r\", \"nfc_13r\", \"nfc_14r\", \"nfc_15r\", \"nfc_16r\",\n",
    "          \"nfc_17r\", \"nfc_18r\" ], axis=1, inplace=True)\n",
    "\n",
    "nfc"
   ]
  },
  {
   "cell_type": "code",
   "execution_count": 151,
   "id": "5430b67d",
   "metadata": {},
   "outputs": [],
   "source": [
    "df.drop([\"nfc_1r\", \"nfc_2r\", \"nfc_3r\", \"nfc_4r\", \"nfc_5r\", \"nfc_6r\",\"nfc_7r\", \"nfc_8r\",\n",
    "         \"nfc_9r\", \"nfc_10r\", \"nfc_11r\", \"nfc_12r\", \"nfc_13r\", \"nfc_14r\", \"nfc_15r\", \"nfc_16r\",\n",
    "          \"nfc_17r\", \"nfc_18r\" ], axis=1, inplace=True)"
   ]
  },
  {
   "cell_type": "markdown",
   "id": "8ee34c3e",
   "metadata": {},
   "source": [
    "Efter att vi har skapat en separat dataframe för nfc-poängen tar vi bort kolumnerna från vår ursprungliga data. Vi omvandlar sedan datan från bred till lång data. "
   ]
  },
  {
   "cell_type": "code",
   "execution_count": 152,
   "id": "2836ae73",
   "metadata": {},
   "outputs": [
    {
     "data": {
      "text/html": [
       "<div>\n",
       "<style scoped>\n",
       "    .dataframe tbody tr th:only-of-type {\n",
       "        vertical-align: middle;\n",
       "    }\n",
       "\n",
       "    .dataframe tbody tr th {\n",
       "        vertical-align: top;\n",
       "    }\n",
       "\n",
       "    .dataframe thead th {\n",
       "        text-align: right;\n",
       "    }\n",
       "</style>\n",
       "<table border=\"1\" class=\"dataframe\">\n",
       "  <thead>\n",
       "    <tr style=\"text-align: right;\">\n",
       "      <th></th>\n",
       "      <th>PID</th>\n",
       "      <th>trial</th>\n",
       "      <th>task</th>\n",
       "    </tr>\n",
       "  </thead>\n",
       "  <tbody>\n",
       "    <tr>\n",
       "      <th>0</th>\n",
       "      <td>1</td>\n",
       "      <td>q1</td>\n",
       "      <td>DO NOTHING</td>\n",
       "    </tr>\n",
       "    <tr>\n",
       "      <th>1</th>\n",
       "      <td>2</td>\n",
       "      <td>q1</td>\n",
       "      <td>DO NOTHING</td>\n",
       "    </tr>\n",
       "    <tr>\n",
       "      <th>2</th>\n",
       "      <td>3</td>\n",
       "      <td>q1</td>\n",
       "      <td>DO NOTHING</td>\n",
       "    </tr>\n",
       "    <tr>\n",
       "      <th>3</th>\n",
       "      <td>4</td>\n",
       "      <td>q1</td>\n",
       "      <td>DO NOTHING</td>\n",
       "    </tr>\n",
       "    <tr>\n",
       "      <th>4</th>\n",
       "      <td>5</td>\n",
       "      <td>q1</td>\n",
       "      <td>DO NOTHING</td>\n",
       "    </tr>\n",
       "    <tr>\n",
       "      <th>...</th>\n",
       "      <td>...</td>\n",
       "      <td>...</td>\n",
       "      <td>...</td>\n",
       "    </tr>\n",
       "    <tr>\n",
       "      <th>7355</th>\n",
       "      <td>88</td>\n",
       "      <td>q80</td>\n",
       "      <td>DO NOTHING</td>\n",
       "    </tr>\n",
       "    <tr>\n",
       "      <th>7356</th>\n",
       "      <td>89</td>\n",
       "      <td>q80</td>\n",
       "      <td>ADD 3</td>\n",
       "    </tr>\n",
       "    <tr>\n",
       "      <th>7357</th>\n",
       "      <td>90</td>\n",
       "      <td>q80</td>\n",
       "      <td>DO NOTHING</td>\n",
       "    </tr>\n",
       "    <tr>\n",
       "      <th>7358</th>\n",
       "      <td>91</td>\n",
       "      <td>q80</td>\n",
       "      <td>DO NOTHING</td>\n",
       "    </tr>\n",
       "    <tr>\n",
       "      <th>7359</th>\n",
       "      <td>92</td>\n",
       "      <td>q80</td>\n",
       "      <td>ADD 3</td>\n",
       "    </tr>\n",
       "  </tbody>\n",
       "</table>\n",
       "<p>7360 rows × 3 columns</p>\n",
       "</div>"
      ],
      "text/plain": [
       "      PID trial        task\n",
       "0       1    q1  DO NOTHING\n",
       "1       2    q1  DO NOTHING\n",
       "2       3    q1  DO NOTHING\n",
       "3       4    q1  DO NOTHING\n",
       "4       5    q1  DO NOTHING\n",
       "...   ...   ...         ...\n",
       "7355   88   q80  DO NOTHING\n",
       "7356   89   q80       ADD 3\n",
       "7357   90   q80  DO NOTHING\n",
       "7358   91   q80  DO NOTHING\n",
       "7359   92   q80       ADD 3\n",
       "\n",
       "[7360 rows x 3 columns]"
      ]
     },
     "execution_count": 152,
     "metadata": {},
     "output_type": "execute_result"
    }
   ],
   "source": [
    "df_trials_long = df.melt(\n",
    "    id_vars='PID',\n",
    "    var_name='trial',\n",
    "    value_name='task'\n",
    ")\n",
    "\n",
    "df_trials_long"
   ]
  },
  {
   "cell_type": "code",
   "execution_count": 153,
   "id": "d05c1509",
   "metadata": {},
   "outputs": [
    {
     "name": "stderr",
     "output_type": "stream",
     "text": [
      "C:\\Users\\marku\\AppData\\Local\\Temp\\ipykernel_14592\\1772685296.py:1: FutureWarning:\n",
      "\n",
      "Downcasting behavior in `replace` is deprecated and will be removed in a future version. To retain the old behavior, explicitly call `result.infer_objects(copy=False)`. To opt-in to the future behavior, set `pd.set_option('future.no_silent_downcasting', True)`\n",
      "\n"
     ]
    }
   ],
   "source": [
    "df_trials_long['task'] = df_trials_long['task'].replace({\n",
    "    'DO NOTHING': 0,\n",
    "    'ADD 3': 1})"
   ]
  },
  {
   "cell_type": "markdown",
   "id": "cb8e280a",
   "metadata": {},
   "source": [
    "Vi omvandlar ADD 3 till 1 och DO NOTING till 0 för analysen."
   ]
  },
  {
   "cell_type": "code",
   "execution_count": 154,
   "id": "afccc0dc",
   "metadata": {},
   "outputs": [],
   "source": [
    "df_trials_long['trial'] = df_trials_long['trial'].str.replace('q', '', regex=False)\n",
    "\n",
    "df_trials_long['trial'] = pd.to_numeric(df_trials_long['trial'])\n",
    "\n",
    "df_trials_long = df_trials_long.sort_values(['PID', 'trial']).reset_index(drop=True)"
   ]
  },
  {
   "cell_type": "markdown",
   "id": "aaf1da60",
   "metadata": {},
   "source": [
    "Vi vill att strukturen på den långa datan ska vara 'radvis' per deltagare. (Alltså att de första raderna är endast deltagare X och dess trials, därefter deltagare Y...). Här ovan tar vi först bort bokstaven 'q' och omvandlar kolumnen till numerisk istället för sträng. Sedan sorterar vi först efter 'PID' och sedan efter 'trial' inom varje PID"
   ]
  },
  {
   "cell_type": "code",
   "execution_count": 155,
   "id": "61dd6f90",
   "metadata": {},
   "outputs": [
    {
     "data": {
      "text/html": [
       "<div>\n",
       "<style scoped>\n",
       "    .dataframe tbody tr th:only-of-type {\n",
       "        vertical-align: middle;\n",
       "    }\n",
       "\n",
       "    .dataframe tbody tr th {\n",
       "        vertical-align: top;\n",
       "    }\n",
       "\n",
       "    .dataframe thead th {\n",
       "        text-align: right;\n",
       "    }\n",
       "</style>\n",
       "<table border=\"1\" class=\"dataframe\">\n",
       "  <thead>\n",
       "    <tr style=\"text-align: right;\">\n",
       "      <th></th>\n",
       "      <th>PID</th>\n",
       "      <th>trial</th>\n",
       "      <th>task</th>\n",
       "      <th>nfc_mean</th>\n",
       "    </tr>\n",
       "  </thead>\n",
       "  <tbody>\n",
       "    <tr>\n",
       "      <th>0</th>\n",
       "      <td>1</td>\n",
       "      <td>1</td>\n",
       "      <td>0</td>\n",
       "      <td>3.67</td>\n",
       "    </tr>\n",
       "    <tr>\n",
       "      <th>1</th>\n",
       "      <td>1</td>\n",
       "      <td>2</td>\n",
       "      <td>1</td>\n",
       "      <td>3.67</td>\n",
       "    </tr>\n",
       "    <tr>\n",
       "      <th>2</th>\n",
       "      <td>1</td>\n",
       "      <td>3</td>\n",
       "      <td>0</td>\n",
       "      <td>3.67</td>\n",
       "    </tr>\n",
       "    <tr>\n",
       "      <th>3</th>\n",
       "      <td>1</td>\n",
       "      <td>4</td>\n",
       "      <td>1</td>\n",
       "      <td>3.67</td>\n",
       "    </tr>\n",
       "    <tr>\n",
       "      <th>4</th>\n",
       "      <td>1</td>\n",
       "      <td>5</td>\n",
       "      <td>1</td>\n",
       "      <td>3.67</td>\n",
       "    </tr>\n",
       "    <tr>\n",
       "      <th>...</th>\n",
       "      <td>...</td>\n",
       "      <td>...</td>\n",
       "      <td>...</td>\n",
       "      <td>...</td>\n",
       "    </tr>\n",
       "    <tr>\n",
       "      <th>7355</th>\n",
       "      <td>92</td>\n",
       "      <td>76</td>\n",
       "      <td>0</td>\n",
       "      <td>3.56</td>\n",
       "    </tr>\n",
       "    <tr>\n",
       "      <th>7356</th>\n",
       "      <td>92</td>\n",
       "      <td>77</td>\n",
       "      <td>0</td>\n",
       "      <td>3.56</td>\n",
       "    </tr>\n",
       "    <tr>\n",
       "      <th>7357</th>\n",
       "      <td>92</td>\n",
       "      <td>78</td>\n",
       "      <td>0</td>\n",
       "      <td>3.56</td>\n",
       "    </tr>\n",
       "    <tr>\n",
       "      <th>7358</th>\n",
       "      <td>92</td>\n",
       "      <td>79</td>\n",
       "      <td>1</td>\n",
       "      <td>3.56</td>\n",
       "    </tr>\n",
       "    <tr>\n",
       "      <th>7359</th>\n",
       "      <td>92</td>\n",
       "      <td>80</td>\n",
       "      <td>1</td>\n",
       "      <td>3.56</td>\n",
       "    </tr>\n",
       "  </tbody>\n",
       "</table>\n",
       "<p>7360 rows × 4 columns</p>\n",
       "</div>"
      ],
      "text/plain": [
       "      PID  trial  task  nfc_mean\n",
       "0       1      1     0      3.67\n",
       "1       1      2     1      3.67\n",
       "2       1      3     0      3.67\n",
       "3       1      4     1      3.67\n",
       "4       1      5     1      3.67\n",
       "...   ...    ...   ...       ...\n",
       "7355   92     76     0      3.56\n",
       "7356   92     77     0      3.56\n",
       "7357   92     78     0      3.56\n",
       "7358   92     79     1      3.56\n",
       "7359   92     80     1      3.56\n",
       "\n",
       "[7360 rows x 4 columns]"
      ]
     },
     "execution_count": 155,
     "metadata": {},
     "output_type": "execute_result"
    }
   ],
   "source": [
    "df_merged = pd.merge(df_trials_long, nfc[[\"PID\", \"nfc_mean\"]], on=\"PID\", how=\"left\")\n",
    "\n",
    "df_merged"
   ]
  },
  {
   "cell_type": "code",
   "execution_count": 156,
   "id": "f7dd0e75",
   "metadata": {},
   "outputs": [],
   "source": [
    "df_merged.to_csv('df_merge.csv', index=False)"
   ]
  },
  {
   "cell_type": "markdown",
   "id": "6aab3375",
   "metadata": {},
   "source": [
    "Vi mergar de två dataframes till endast en med merge. "
   ]
  },
  {
   "cell_type": "markdown",
   "id": "81200472",
   "metadata": {},
   "source": [
    "ANALYS NEXT!! \n",
    "\n",
    "fortsätt med denna koden och ladda sedan upp allt på github! <3"
   ]
  },
  {
   "cell_type": "markdown",
   "id": "b96a6423",
   "metadata": {},
   "source": [
    "# ANALYS\n",
    "\n",
    "Är deltagare mindre benägna att välja den ansträngande uppgiften ju fler trials som gått?\n",
    "\n",
    "Alltså: minskar sannolikheten att välja “ADD 3” (ansträngande) över tid (trial 1 → trial 80)?"
   ]
  },
  {
   "cell_type": "code",
   "execution_count": 157,
   "id": "741c2e20",
   "metadata": {},
   "outputs": [
    {
     "data": {
      "image/png": "[encoded data removed]",
      "text/plain": [
       "<Figure size 640x480 with 1 Axes>"
      ]
     },
     "metadata": {},
     "output_type": "display_data"
    }
   ],
   "source": [
    "mean_per_trial = df_merged.groupby(\"trial\")[\"task\"].mean()\n",
    "\n",
    "plt.scatter(mean_per_trial.index, mean_per_trial.values)\n",
    "plt.xlabel(\"Trial\")\n",
    "plt.ylabel(\"Andel ADD 3\")\n",
    "plt.title(\"Andel deltagare som väljer ansträngande uppgift över tid\")\n",
    "plt.show()\n"
   ]
  },
  {
   "cell_type": "markdown",
   "id": "aa3f653a",
   "metadata": {},
   "source": [
    "**FÖRKLARING**\n",
    "df.groupby(\"trial\") → grupperar datan efter vilket trialnummer (1–80) det är.\n",
    "\n",
    "Så den skapar 80 grupper:\n",
    "\n",
    "Grupp 1 = alla rader där trial == 1\n",
    "\n",
    "Grupp 2 = alla rader där trial == 2\n",
    "\n",
    "osv. upp till trial == 80\n",
    "\n",
    "\n",
    "[\"task\"].mean() → inom varje grupp tar den medelvärdet av kolumnen task.\n",
    "\n",
    "Eftersom vi har gjort task =\n",
    "\n",
    "1 för \"ADD 3\"\n",
    "\n",
    "0 för \"DO NOTHING\"\n",
    "\n",
    "...så är medelvärdet av task inom varje grupp detsamma som: Andel deltagare som valde ADD 3 i det trialet.\n"
   ]
  },
  {
   "cell_type": "markdown",
   "id": "8fa3dcf4",
   "metadata": {},
   "source": [
    "x-axeln (index) = trialnummer (1 → 80)\n",
    "\n",
    "y-axeln (värden) = andel (0–1) deltagare som valde ADD 3 i det trialet"
   ]
  },
  {
   "cell_type": "code",
   "execution_count": 158,
   "id": "92c6b064",
   "metadata": {},
   "outputs": [
    {
     "data": {
      "application/vnd.plotly.v1+json": {
       "config": {
        "plotlyServerURL": "https://plot.ly"
       },
       "data": [
        {
         "hovertemplate": "Trial=%{x}<br>Andel ADD 3=%{y}<extra></extra>",
         "legendgroup": "",
         "marker": {
          "color": "#636efa",
          "symbol": "circle"
         },
         "mode": "markers",
         "name": "",
         "orientation": "v",
         "showlegend": false,
         "type": "scatter",
         "x": [
          1,
          2,
          3,
          4,
          5,
          6,
          7,
          8,
          9,
          10,
          11,
          12,
          13,
          14,
          15,
          16,
          17,
          18,
          19,
          20,
          21,
          22,
          23,
          24,
          25,
          26,
          27,
          28,
          29,
          30,
          31,
          32,
          33,
          34,
          35,
          36,
          37,
          38,
          39,
          40,
          41,
          42,
          43,
          44,
          45,
          46,
          47,
          48,
          49,
          50,
          51,
          52,
          53,
          54,
          55,
          56,
          57,
          58,
          59,
          60,
          61,
          62,
          63,
          64,
          65,
          66,
          67,
          68,
          69,
          70,
          71,
          72,
          73,
          74,
          75,
          76,
          77,
          78,
          79,
          80
         ],
         "xaxis": "x",
         "y": [
          0.42391304347826086,
          0.6195652173913043,
          0.5760869565217391,
          0.6086956521739131,
          0.5978260869565217,
          0.7282608695652174,
          0.5978260869565217,
          0.6086956521739131,
          0.6086956521739131,
          0.532608695652174,
          0.5652173913043478,
          0.6304347826086957,
          0.6086956521739131,
          0.5869565217391305,
          0.5434782608695652,
          0.5869565217391305,
          0.6304347826086957,
          0.6847826086956522,
          0.532608695652174,
          0.4782608695652174,
          0.4782608695652174,
          0.6086956521739131,
          0.6521739130434783,
          0.6413043478260869,
          0.6521739130434783,
          0.6195652173913043,
          0.5543478260869565,
          0.5978260869565217,
          0.5978260869565217,
          0.6086956521739131,
          0.4891304347826087,
          0.5978260869565217,
          0.5652173913043478,
          0.5108695652173914,
          0.4891304347826087,
          0.5760869565217391,
          0.5652173913043478,
          0.532608695652174,
          0.5760869565217391,
          0.5978260869565217,
          0.45652173913043476,
          0.6086956521739131,
          0.5543478260869565,
          0.5760869565217391,
          0.5,
          0.5543478260869565,
          0.5217391304347826,
          0.5652173913043478,
          0.5434782608695652,
          0.532608695652174,
          0.45652173913043476,
          0.5652173913043478,
          0.5108695652173914,
          0.5108695652173914,
          0.42391304347826086,
          0.4891304347826087,
          0.5760869565217391,
          0.5108695652173914,
          0.43478260869565216,
          0.4891304347826087,
          0.44565217391304346,
          0.5543478260869565,
          0.532608695652174,
          0.5543478260869565,
          0.5543478260869565,
          0.5652173913043478,
          0.5434782608695652,
          0.5108695652173914,
          0.42391304347826086,
          0.5760869565217391,
          0.391304347826087,
          0.5652173913043478,
          0.4891304347826087,
          0.5,
          0.44565217391304346,
          0.43478260869565216,
          0.5,
          0.5108695652173914,
          0.4673913043478261,
          0.41304347826086957
         ],
         "yaxis": "y"
        },
        {
         "hovertemplate": "<b>OLS trendline</b><br>task = -0.00167846 * trial + 0.613222<br>R<sup>2</sup>=0.335180<br><br>Trial=%{x}<br>Andel ADD 3=%{y} <b>(trend)</b><extra></extra>",
         "legendgroup": "",
         "marker": {
          "color": "#636efa",
          "symbol": "circle"
         },
         "mode": "lines",
         "name": "",
         "showlegend": false,
         "type": "scatter",
         "x": [
          1,
          2,
          3,
          4,
          5,
          6,
          7,
          8,
          9,
          10,
          11,
          12,
          13,
          14,
          15,
          16,
          17,
          18,
          19,
          20,
          21,
          22,
          23,
          24,
          25,
          26,
          27,
          28,
          29,
          30,
          31,
          32,
          33,
          34,
          35,
          36,
          37,
          38,
          39,
          40,
          41,
          42,
          43,
          44,
          45,
          46,
          47,
          48,
          49,
          50,
          51,
          52,
          53,
          54,
          55,
          56,
          57,
          58,
          59,
          60,
          61,
          62,
          63,
          64,
          65,
          66,
          67,
          68,
          69,
          70,
          71,
          72,
          73,
          74,
          75,
          76,
          77,
          78,
          79,
          80
         ],
         "xaxis": "x",
         "y": [
          0.6115438808373592,
          0.6098654171507777,
          0.6081869534641963,
          0.6065084897776148,
          0.6048300260910333,
          0.6031515624044519,
          0.6014730987178704,
          0.5997946350312889,
          0.5981161713447075,
          0.596437707658126,
          0.5947592439715446,
          0.5930807802849631,
          0.5914023165983816,
          0.5897238529118002,
          0.5880453892252187,
          0.5863669255386372,
          0.5846884618520558,
          0.5830099981654743,
          0.5813315344788929,
          0.5796530707923114,
          0.5779746071057299,
          0.5762961434191485,
          0.574617679732567,
          0.5729392160459855,
          0.5712607523594041,
          0.5695822886728226,
          0.5679038249862411,
          0.5662253612996597,
          0.5645468976130782,
          0.5628684339264968,
          0.5611899702399153,
          0.5595115065533338,
          0.5578330428667524,
          0.556154579180171,
          0.5544761154935894,
          0.552797651807008,
          0.5511191881204265,
          0.5494407244338451,
          0.5477622607472636,
          0.5460837970606821,
          0.5444053333741007,
          0.5427268696875193,
          0.5410484060009377,
          0.5393699423143563,
          0.5376914786277749,
          0.5360130149411934,
          0.5343345512546119,
          0.5326560875680304,
          0.530977623881449,
          0.5292991601948676,
          0.527620696508286,
          0.5259422328217046,
          0.5242637691351231,
          0.5225853054485416,
          0.5209068417619602,
          0.5192283780753788,
          0.5175499143887973,
          0.5158714507022159,
          0.5141929870156343,
          0.5125145233290529,
          0.5108360596424715,
          0.5091575959558899,
          0.5074791322693085,
          0.505800668582727,
          0.5041222048961456,
          0.5024437412095641,
          0.5007652775229826,
          0.4990868138364012,
          0.4974083501498197,
          0.49572988646323823,
          0.4940514227766568,
          0.49237295909007534,
          0.49069449540349386,
          0.48901603171691244,
          0.48733756803033096,
          0.4856591043437495,
          0.48398064065716806,
          0.4823021769705865,
          0.4806237132840051,
          0.47894524959742363
         ],
         "yaxis": "y"
        }
       ],
       "layout": {
        "legend": {
         "tracegroupgap": 0
        },
        "template": {
         "data": {
          "bar": [
           {
            "error_x": {
             "color": "#2a3f5f"
            },
            "error_y": {
             "color": "#2a3f5f"
            },
            "marker": {
             "line": {
              "color": "#E5ECF6",
              "width": 0.5
             },
             "pattern": {
              "fillmode": "overlay",
              "size": 10,
              "solidity": 0.2
             }
            },
            "type": "bar"
           }
          ],
          "barpolar": [
           {
            "marker": {
             "line": {
              "color": "#E5ECF6",
              "width": 0.5
             },
             "pattern": {
              "fillmode": "overlay",
              "size": 10,
              "solidity": 0.2
             }
            },
            "type": "barpolar"
           }
          ],
          "carpet": [
           {
            "aaxis": {
             "endlinecolor": "#2a3f5f",
             "gridcolor": "white",
             "linecolor": "white",
             "minorgridcolor": "white",
             "startlinecolor": "#2a3f5f"
            },
            "baxis": {
             "endlinecolor": "#2a3f5f",
             "gridcolor": "white",
             "linecolor": "white",
             "minorgridcolor": "white",
             "startlinecolor": "#2a3f5f"
            },
            "type": "carpet"
           }
          ],
          "choropleth": [
           {
            "colorbar": {
             "outlinewidth": 0,
             "ticks": ""
            },
            "type": "choropleth"
           }
          ],
          "contour": [
           {
            "colorbar": {
             "outlinewidth": 0,
             "ticks": ""
            },
            "colorscale": [
             [
              0,
              "#0d0887"
             ],
             [
              0.1111111111111111,
              "#46039f"
             ],
             [
              0.2222222222222222,
              "#7201a8"
             ],
             [
              0.3333333333333333,
              "#9c179e"
             ],
             [
              0.4444444444444444,
              "#bd3786"
             ],
             [
              0.5555555555555556,
              "#d8576b"
             ],
             [
              0.6666666666666666,
              "#ed7953"
             ],
             [
              0.7777777777777778,
              "#fb9f3a"
             ],
             [
              0.8888888888888888,
              "#fdca26"
             ],
             [
              1,
              "#f0f921"
             ]
            ],
            "type": "contour"
           }
          ],
          "contourcarpet": [
           {
            "colorbar": {
             "outlinewidth": 0,
             "ticks": ""
            },
            "type": "contourcarpet"
           }
          ],
          "heatmap": [
           {
            "colorbar": {
             "outlinewidth": 0,
             "ticks": ""
            },
            "colorscale": [
             [
              0,
              "#0d0887"
             ],
             [
              0.1111111111111111,
              "#46039f"
             ],
             [
              0.2222222222222222,
              "#7201a8"
             ],
             [
              0.3333333333333333,
              "#9c179e"
             ],
             [
              0.4444444444444444,
              "#bd3786"
             ],
             [
              0.5555555555555556,
              "#d8576b"
             ],
             [
              0.6666666666666666,
              "#ed7953"
             ],
             [
              0.7777777777777778,
              "#fb9f3a"
             ],
             [
              0.8888888888888888,
              "#fdca26"
             ],
             [
              1,
              "#f0f921"
             ]
            ],
            "type": "heatmap"
           }
          ],
          "heatmapgl": [
           {
            "colorbar": {
             "outlinewidth": 0,
             "ticks": ""
            },
            "colorscale": [
             [
              0,
              "#0d0887"
             ],
             [
              0.1111111111111111,
              "#46039f"
             ],
             [
              0.2222222222222222,
              "#7201a8"
             ],
             [
              0.3333333333333333,
              "#9c179e"
             ],
             [
              0.4444444444444444,
              "#bd3786"
             ],
             [
              0.5555555555555556,
              "#d8576b"
             ],
             [
              0.6666666666666666,
              "#ed7953"
             ],
             [
              0.7777777777777778,
              "#fb9f3a"
             ],
             [
              0.8888888888888888,
              "#fdca26"
             ],
             [
              1,
              "#f0f921"
             ]
            ],
            "type": "heatmapgl"
           }
          ],
          "histogram": [
           {
            "marker": {
             "pattern": {
              "fillmode": "overlay",
              "size": 10,
              "solidity": 0.2
             }
            },
            "type": "histogram"
           }
          ],
          "histogram2d": [
           {
            "colorbar": {
             "outlinewidth": 0,
             "ticks": ""
            },
            "colorscale": [
             [
              0,
              "#0d0887"
             ],
             [
              0.1111111111111111,
              "#46039f"
             ],
             [
              0.2222222222222222,
              "#7201a8"
             ],
             [
              0.3333333333333333,
              "#9c179e"
             ],
             [
              0.4444444444444444,
              "#bd3786"
             ],
             [
              0.5555555555555556,
              "#d8576b"
             ],
             [
              0.6666666666666666,
              "#ed7953"
             ],
             [
              0.7777777777777778,
              "#fb9f3a"
             ],
             [
              0.8888888888888888,
              "#fdca26"
             ],
             [
              1,
              "#f0f921"
             ]
            ],
            "type": "histogram2d"
           }
          ],
          "histogram2dcontour": [
           {
            "colorbar": {
             "outlinewidth": 0,
             "ticks": ""
            },
            "colorscale": [
             [
              0,
              "#0d0887"
             ],
             [
              0.1111111111111111,
              "#46039f"
             ],
             [
              0.2222222222222222,
              "#7201a8"
             ],
             [
              0.3333333333333333,
              "#9c179e"
             ],
             [
              0.4444444444444444,
              "#bd3786"
             ],
             [
              0.5555555555555556,
              "#d8576b"
             ],
             [
              0.6666666666666666,
              "#ed7953"
             ],
             [
              0.7777777777777778,
              "#fb9f3a"
             ],
             [
              0.8888888888888888,
              "#fdca26"
             ],
             [
              1,
              "#f0f921"
             ]
            ],
            "type": "histogram2dcontour"
           }
          ],
          "mesh3d": [
           {
            "colorbar": {
             "outlinewidth": 0,
             "ticks": ""
            },
            "type": "mesh3d"
           }
          ],
          "parcoords": [
           {
            "line": {
             "colorbar": {
              "outlinewidth": 0,
              "ticks": ""
             }
            },
            "type": "parcoords"
           }
          ],
          "pie": [
           {
            "automargin": true,
            "type": "pie"
           }
          ],
          "scatter": [
           {
            "fillpattern": {
             "fillmode": "overlay",
             "size": 10,
             "solidity": 0.2
            },
            "type": "scatter"
           }
          ],
          "scatter3d": [
           {
            "line": {
             "colorbar": {
              "outlinewidth": 0,
              "ticks": ""
             }
            },
            "marker": {
             "colorbar": {
              "outlinewidth": 0,
              "ticks": ""
             }
            },
            "type": "scatter3d"
           }
          ],
          "scattercarpet": [
           {
            "marker": {
             "colorbar": {
              "outlinewidth": 0,
              "ticks": ""
             }
            },
            "type": "scattercarpet"
           }
          ],
          "scattergeo": [
           {
            "marker": {
             "colorbar": {
              "outlinewidth": 0,
              "ticks": ""
             }
            },
            "type": "scattergeo"
           }
          ],
          "scattergl": [
           {
            "marker": {
             "colorbar": {
              "outlinewidth": 0,
              "ticks": ""
             }
            },
            "type": "scattergl"
           }
          ],
          "scattermapbox": [
           {
            "marker": {
             "colorbar": {
              "outlinewidth": 0,
              "ticks": ""
             }
            },
            "type": "scattermapbox"
           }
          ],
          "scatterpolar": [
           {
            "marker": {
             "colorbar": {
              "outlinewidth": 0,
              "ticks": ""
             }
            },
            "type": "scatterpolar"
           }
          ],
          "scatterpolargl": [
           {
            "marker": {
             "colorbar": {
              "outlinewidth": 0,
              "ticks": ""
             }
            },
            "type": "scatterpolargl"
           }
          ],
          "scatterternary": [
           {
            "marker": {
             "colorbar": {
              "outlinewidth": 0,
              "ticks": ""
             }
            },
            "type": "scatterternary"
           }
          ],
          "surface": [
           {
            "colorbar": {
             "outlinewidth": 0,
             "ticks": ""
            },
            "colorscale": [
             [
              0,
              "#0d0887"
             ],
             [
              0.1111111111111111,
              "#46039f"
             ],
             [
              0.2222222222222222,
              "#7201a8"
             ],
             [
              0.3333333333333333,
              "#9c179e"
             ],
             [
              0.4444444444444444,
              "#bd3786"
             ],
             [
              0.5555555555555556,
              "#d8576b"
             ],
             [
              0.6666666666666666,
              "#ed7953"
             ],
             [
              0.7777777777777778,
              "#fb9f3a"
             ],
             [
              0.8888888888888888,
              "#fdca26"
             ],
             [
              1,
              "#f0f921"
             ]
            ],
            "type": "surface"
           }
          ],
          "table": [
           {
            "cells": {
             "fill": {
              "color": "#EBF0F8"
             },
             "line": {
              "color": "white"
             }
            },
            "header": {
             "fill": {
              "color": "#C8D4E3"
             },
             "line": {
              "color": "white"
             }
            },
            "type": "table"
           }
          ]
         },
         "layout": {
          "annotationdefaults": {
           "arrowcolor": "#2a3f5f",
           "arrowhead": 0,
           "arrowwidth": 1
          },
          "autotypenumbers": "strict",
          "coloraxis": {
           "colorbar": {
            "outlinewidth": 0,
            "ticks": ""
           }
          },
          "colorscale": {
           "diverging": [
            [
             0,
             "#8e0152"
            ],
            [
             0.1,
             "#c51b7d"
            ],
            [
             0.2,
             "#de77ae"
            ],
            [
             0.3,
             "#f1b6da"
            ],
            [
             0.4,
             "#fde0ef"
            ],
            [
             0.5,
             "#f7f7f7"
            ],
            [
             0.6,
             "#e6f5d0"
            ],
            [
             0.7,
             "#b8e186"
            ],
            [
             0.8,
             "#7fbc41"
            ],
            [
             0.9,
             "#4d9221"
            ],
            [
             1,
             "#276419"
            ]
           ],
           "sequential": [
            [
             0,
             "#0d0887"
            ],
            [
             0.1111111111111111,
             "#46039f"
            ],
            [
             0.2222222222222222,
             "#7201a8"
            ],
            [
             0.3333333333333333,
             "#9c179e"
            ],
            [
             0.4444444444444444,
             "#bd3786"
            ],
            [
             0.5555555555555556,
             "#d8576b"
            ],
            [
             0.6666666666666666,
             "#ed7953"
            ],
            [
             0.7777777777777778,
             "#fb9f3a"
            ],
            [
             0.8888888888888888,
             "#fdca26"
            ],
            [
             1,
             "#f0f921"
            ]
           ],
           "sequentialminus": [
            [
             0,
             "#0d0887"
            ],
            [
             0.1111111111111111,
             "#46039f"
            ],
            [
             0.2222222222222222,
             "#7201a8"
            ],
            [
             0.3333333333333333,
             "#9c179e"
            ],
            [
             0.4444444444444444,
             "#bd3786"
            ],
            [
             0.5555555555555556,
             "#d8576b"
            ],
            [
             0.6666666666666666,
             "#ed7953"
            ],
            [
             0.7777777777777778,
             "#fb9f3a"
            ],
            [
             0.8888888888888888,
             "#fdca26"
            ],
            [
             1,
             "#f0f921"
            ]
           ]
          },
          "colorway": [
           "#636efa",
           "#EF553B",
           "#00cc96",
           "#ab63fa",
           "#FFA15A",
           "#19d3f3",
           "#FF6692",
           "#B6E880",
           "#FF97FF",
           "#FECB52"
          ],
          "font": {
           "color": "#2a3f5f"
          },
          "geo": {
           "bgcolor": "white",
           "lakecolor": "white",
           "landcolor": "#E5ECF6",
           "showlakes": true,
           "showland": true,
           "subunitcolor": "white"
          },
          "hoverlabel": {
           "align": "left"
          },
          "hovermode": "closest",
          "mapbox": {
           "style": "light"
          },
          "paper_bgcolor": "white",
          "plot_bgcolor": "#E5ECF6",
          "polar": {
           "angularaxis": {
            "gridcolor": "white",
            "linecolor": "white",
            "ticks": ""
           },
           "bgcolor": "#E5ECF6",
           "radialaxis": {
            "gridcolor": "white",
            "linecolor": "white",
            "ticks": ""
           }
          },
          "scene": {
           "xaxis": {
            "backgroundcolor": "#E5ECF6",
            "gridcolor": "white",
            "gridwidth": 2,
            "linecolor": "white",
            "showbackground": true,
            "ticks": "",
            "zerolinecolor": "white"
           },
           "yaxis": {
            "backgroundcolor": "#E5ECF6",
            "gridcolor": "white",
            "gridwidth": 2,
            "linecolor": "white",
            "showbackground": true,
            "ticks": "",
            "zerolinecolor": "white"
           },
           "zaxis": {
            "backgroundcolor": "#E5ECF6",
            "gridcolor": "white",
            "gridwidth": 2,
            "linecolor": "white",
            "showbackground": true,
            "ticks": "",
            "zerolinecolor": "white"
           }
          },
          "shapedefaults": {
           "line": {
            "color": "#2a3f5f"
           }
          },
          "ternary": {
           "aaxis": {
            "gridcolor": "white",
            "linecolor": "white",
            "ticks": ""
           },
           "baxis": {
            "gridcolor": "white",
            "linecolor": "white",
            "ticks": ""
           },
           "bgcolor": "#E5ECF6",
           "caxis": {
            "gridcolor": "white",
            "linecolor": "white",
            "ticks": ""
           }
          },
          "title": {
           "x": 0.05
          },
          "xaxis": {
           "automargin": true,
           "gridcolor": "white",
           "linecolor": "white",
           "ticks": "",
           "title": {
            "standoff": 15
           },
           "zerolinecolor": "white",
           "zerolinewidth": 2
          },
          "yaxis": {
           "automargin": true,
           "gridcolor": "white",
           "linecolor": "white",
           "ticks": "",
           "title": {
            "standoff": 15
           },
           "zerolinecolor": "white",
           "zerolinewidth": 2
          }
         }
        },
        "title": {
         "text": "Andel deltagare som väljer ansträngande uppgift över tid"
        },
        "xaxis": {
         "anchor": "y",
         "domain": [
          0,
          1
         ],
         "title": {
          "text": "Trial"
         }
        },
        "yaxis": {
         "anchor": "x",
         "domain": [
          0,
          1
         ],
         "title": {
          "text": "Andel ADD 3"
         }
        }
       }
      }
     },
     "metadata": {},
     "output_type": "display_data"
    }
   ],
   "source": [
    "mean_per_trial = df_merged.groupby(\"trial\")[\"task\"].mean().reset_index()\n",
    "\n",
    "fig = px.scatter(mean_per_trial, x=\"trial\", y=\"task\",\n",
    "                 title=\"Andel deltagare som väljer ansträngande uppgift över tid\",\n",
    "                 labels={\"trial\": \"Trial\", \"task\": \"Andel ADD 3\"},\n",
    "                 trendline=\"ols\")  #lägger till en regressionslinje\n",
    "fig.show()\n"
   ]
  }
 ],
 "metadata": {
  "kernelspec": {
   "display_name": "base",
   "language": "python",
   "name": "python3"
  },
  "language_info": {
   "codemirror_mode": {
    "name": "ipython",
    "version": 3
   },
   "file_extension": ".py",
   "mimetype": "text/x-python",
   "name": "python",
   "nbconvert_exporter": "python",
   "pygments_lexer": "ipython3",
   "version": "3.13.5"
  }
 },
 "nbformat": 4,
 "nbformat_minor": 5
}
