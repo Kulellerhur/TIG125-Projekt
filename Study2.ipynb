{
 "cells": [
  {
   "cell_type": "code",
   "execution_count": 31,
   "id": "5baac505",
   "metadata": {},
   "outputs": [],
   "source": [
    "import pandas as pd"
   ]
  },
  {
   "cell_type": "code",
   "execution_count": 54,
   "id": "f7cbe573",
   "metadata": {},
   "outputs": [],
   "source": [
    "df = pd.read_csv(\"./Study2.csv\")"
   ]
  },
  {
   "cell_type": "code",
   "execution_count": 33,
   "id": "eff21db2",
   "metadata": {},
   "outputs": [
    {
     "data": {
      "text/html": [
       "<div>\n",
       "<style scoped>\n",
       "    .dataframe tbody tr th:only-of-type {\n",
       "        vertical-align: middle;\n",
       "    }\n",
       "\n",
       "    .dataframe tbody tr th {\n",
       "        vertical-align: top;\n",
       "    }\n",
       "\n",
       "    .dataframe thead th {\n",
       "        text-align: right;\n",
       "    }\n",
       "</style>\n",
       "<table border=\"1\" class=\"dataframe\">\n",
       "  <thead>\n",
       "    <tr style=\"text-align: right;\">\n",
       "      <th></th>\n",
       "      <th>PID</th>\n",
       "      <th>attencheck1</th>\n",
       "      <th>q1</th>\n",
       "      <th>q1ans</th>\n",
       "      <th>q2</th>\n",
       "      <th>q2ans</th>\n",
       "      <th>q3</th>\n",
       "      <th>q3ans</th>\n",
       "      <th>q4</th>\n",
       "      <th>q4ans</th>\n",
       "      <th>...</th>\n",
       "      <th>moe_9r</th>\n",
       "      <th>moe_10r</th>\n",
       "      <th>moe_11r</th>\n",
       "      <th>moe_12r</th>\n",
       "      <th>moe_13r</th>\n",
       "      <th>moe_14r</th>\n",
       "      <th>moe_15r</th>\n",
       "      <th>moe_16r</th>\n",
       "      <th>moe_17r</th>\n",
       "      <th>moe_18r</th>\n",
       "    </tr>\n",
       "  </thead>\n",
       "  <tbody>\n",
       "    <tr>\n",
       "      <th>0</th>\n",
       "      <td>1</td>\n",
       "      <td>Green</td>\n",
       "      <td>ADD 3</td>\n",
       "      <td>incorrect</td>\n",
       "      <td>DO NOTHING</td>\n",
       "      <td></td>\n",
       "      <td>DO NOTHING</td>\n",
       "      <td></td>\n",
       "      <td>DO NOTHING</td>\n",
       "      <td></td>\n",
       "      <td>...</td>\n",
       "      <td>1</td>\n",
       "      <td>5</td>\n",
       "      <td>1</td>\n",
       "      <td>1</td>\n",
       "      <td>5</td>\n",
       "      <td>4</td>\n",
       "      <td>1</td>\n",
       "      <td>3</td>\n",
       "      <td>5</td>\n",
       "      <td>3</td>\n",
       "    </tr>\n",
       "    <tr>\n",
       "      <th>1</th>\n",
       "      <td>2</td>\n",
       "      <td>Green</td>\n",
       "      <td>DO NOTHING</td>\n",
       "      <td></td>\n",
       "      <td>ADD 3</td>\n",
       "      <td>incorrect</td>\n",
       "      <td>DO NOTHING</td>\n",
       "      <td></td>\n",
       "      <td>ADD 3</td>\n",
       "      <td>incorrect</td>\n",
       "      <td>...</td>\n",
       "      <td>5</td>\n",
       "      <td>3</td>\n",
       "      <td>4</td>\n",
       "      <td>5</td>\n",
       "      <td>3</td>\n",
       "      <td>4</td>\n",
       "      <td>5</td>\n",
       "      <td>4</td>\n",
       "      <td>1</td>\n",
       "      <td>3</td>\n",
       "    </tr>\n",
       "    <tr>\n",
       "      <th>2</th>\n",
       "      <td>3</td>\n",
       "      <td>Green</td>\n",
       "      <td>DO NOTHING</td>\n",
       "      <td></td>\n",
       "      <td>ADD 3</td>\n",
       "      <td>incorrect</td>\n",
       "      <td>ADD 3</td>\n",
       "      <td>incorrect</td>\n",
       "      <td>ADD 3</td>\n",
       "      <td>incorrect</td>\n",
       "      <td>...</td>\n",
       "      <td>5</td>\n",
       "      <td>3</td>\n",
       "      <td>5</td>\n",
       "      <td>5</td>\n",
       "      <td>5</td>\n",
       "      <td>5</td>\n",
       "      <td>5</td>\n",
       "      <td>4</td>\n",
       "      <td>4</td>\n",
       "      <td>1</td>\n",
       "    </tr>\n",
       "    <tr>\n",
       "      <th>3</th>\n",
       "      <td>4</td>\n",
       "      <td>Green</td>\n",
       "      <td>DO NOTHING</td>\n",
       "      <td></td>\n",
       "      <td>ADD 3</td>\n",
       "      <td>correct</td>\n",
       "      <td>DO NOTHING</td>\n",
       "      <td></td>\n",
       "      <td>ADD 3</td>\n",
       "      <td>incorrect</td>\n",
       "      <td>...</td>\n",
       "      <td>5</td>\n",
       "      <td>3</td>\n",
       "      <td>4</td>\n",
       "      <td>4</td>\n",
       "      <td>3</td>\n",
       "      <td>4</td>\n",
       "      <td>4</td>\n",
       "      <td>3</td>\n",
       "      <td>3</td>\n",
       "      <td>3</td>\n",
       "    </tr>\n",
       "    <tr>\n",
       "      <th>4</th>\n",
       "      <td>5</td>\n",
       "      <td>Green</td>\n",
       "      <td>DO NOTHING</td>\n",
       "      <td></td>\n",
       "      <td>DO NOTHING</td>\n",
       "      <td></td>\n",
       "      <td>DO NOTHING</td>\n",
       "      <td></td>\n",
       "      <td>DO NOTHING</td>\n",
       "      <td></td>\n",
       "      <td>...</td>\n",
       "      <td>3</td>\n",
       "      <td>4</td>\n",
       "      <td>4</td>\n",
       "      <td>3</td>\n",
       "      <td>3</td>\n",
       "      <td>4</td>\n",
       "      <td>4</td>\n",
       "      <td>3</td>\n",
       "      <td>4</td>\n",
       "      <td>4</td>\n",
       "    </tr>\n",
       "    <tr>\n",
       "      <th>...</th>\n",
       "      <td>...</td>\n",
       "      <td>...</td>\n",
       "      <td>...</td>\n",
       "      <td>...</td>\n",
       "      <td>...</td>\n",
       "      <td>...</td>\n",
       "      <td>...</td>\n",
       "      <td>...</td>\n",
       "      <td>...</td>\n",
       "      <td>...</td>\n",
       "      <td>...</td>\n",
       "      <td>...</td>\n",
       "      <td>...</td>\n",
       "      <td>...</td>\n",
       "      <td>...</td>\n",
       "      <td>...</td>\n",
       "      <td>...</td>\n",
       "      <td>...</td>\n",
       "      <td>...</td>\n",
       "      <td>...</td>\n",
       "      <td>...</td>\n",
       "    </tr>\n",
       "    <tr>\n",
       "      <th>191</th>\n",
       "      <td>192</td>\n",
       "      <td>Green</td>\n",
       "      <td>DO NOTHING</td>\n",
       "      <td></td>\n",
       "      <td>DO NOTHING</td>\n",
       "      <td></td>\n",
       "      <td>DO NOTHING</td>\n",
       "      <td></td>\n",
       "      <td>DO NOTHING</td>\n",
       "      <td></td>\n",
       "      <td>...</td>\n",
       "      <td>3</td>\n",
       "      <td>3</td>\n",
       "      <td>4</td>\n",
       "      <td>4</td>\n",
       "      <td>3</td>\n",
       "      <td>4</td>\n",
       "      <td>4</td>\n",
       "      <td>4</td>\n",
       "      <td>1</td>\n",
       "      <td>3</td>\n",
       "    </tr>\n",
       "    <tr>\n",
       "      <th>192</th>\n",
       "      <td>193</td>\n",
       "      <td>Green</td>\n",
       "      <td>ADD 3</td>\n",
       "      <td>incorrect</td>\n",
       "      <td>DO NOTHING</td>\n",
       "      <td></td>\n",
       "      <td>ADD 3</td>\n",
       "      <td>correct</td>\n",
       "      <td>DO NOTHING</td>\n",
       "      <td></td>\n",
       "      <td>...</td>\n",
       "      <td>4</td>\n",
       "      <td>1</td>\n",
       "      <td>4</td>\n",
       "      <td>5</td>\n",
       "      <td>3</td>\n",
       "      <td>3</td>\n",
       "      <td>3</td>\n",
       "      <td>4</td>\n",
       "      <td>1</td>\n",
       "      <td>1</td>\n",
       "    </tr>\n",
       "    <tr>\n",
       "      <th>193</th>\n",
       "      <td>194</td>\n",
       "      <td>Green</td>\n",
       "      <td>ADD 3</td>\n",
       "      <td>incorrect</td>\n",
       "      <td>ADD 3</td>\n",
       "      <td>incorrect</td>\n",
       "      <td>ADD 3</td>\n",
       "      <td>incorrect</td>\n",
       "      <td>ADD 3</td>\n",
       "      <td>incorrect</td>\n",
       "      <td>...</td>\n",
       "      <td>4</td>\n",
       "      <td>4</td>\n",
       "      <td>4</td>\n",
       "      <td>4</td>\n",
       "      <td>3</td>\n",
       "      <td>4</td>\n",
       "      <td>4</td>\n",
       "      <td>4</td>\n",
       "      <td>3</td>\n",
       "      <td>3</td>\n",
       "    </tr>\n",
       "    <tr>\n",
       "      <th>194</th>\n",
       "      <td>195</td>\n",
       "      <td>Green</td>\n",
       "      <td>DO NOTHING</td>\n",
       "      <td></td>\n",
       "      <td>ADD 3</td>\n",
       "      <td>correct</td>\n",
       "      <td>DO NOTHING</td>\n",
       "      <td></td>\n",
       "      <td>ADD 3</td>\n",
       "      <td>incorrect</td>\n",
       "      <td>...</td>\n",
       "      <td>4</td>\n",
       "      <td>4</td>\n",
       "      <td>1</td>\n",
       "      <td>4</td>\n",
       "      <td>5</td>\n",
       "      <td>3</td>\n",
       "      <td>3</td>\n",
       "      <td>4</td>\n",
       "      <td>3</td>\n",
       "      <td>3</td>\n",
       "    </tr>\n",
       "    <tr>\n",
       "      <th>195</th>\n",
       "      <td>196</td>\n",
       "      <td>Green</td>\n",
       "      <td>DO NOTHING</td>\n",
       "      <td></td>\n",
       "      <td>DO NOTHING</td>\n",
       "      <td></td>\n",
       "      <td>ADD 3</td>\n",
       "      <td>incorrect</td>\n",
       "      <td>ADD 3</td>\n",
       "      <td>correct</td>\n",
       "      <td>...</td>\n",
       "      <td>4</td>\n",
       "      <td>3</td>\n",
       "      <td>5</td>\n",
       "      <td>4</td>\n",
       "      <td>3</td>\n",
       "      <td>4</td>\n",
       "      <td>4</td>\n",
       "      <td>4</td>\n",
       "      <td>4</td>\n",
       "      <td>4</td>\n",
       "    </tr>\n",
       "  </tbody>\n",
       "</table>\n",
       "<p>196 rows × 240 columns</p>\n",
       "</div>"
      ],
      "text/plain": [
       "     PID attencheck1          q1      q1ans          q2      q2ans  \\\n",
       "0      1       Green       ADD 3  incorrect  DO NOTHING              \n",
       "1      2       Green  DO NOTHING                  ADD 3  incorrect   \n",
       "2      3       Green  DO NOTHING                  ADD 3  incorrect   \n",
       "3      4       Green  DO NOTHING                  ADD 3    correct   \n",
       "4      5       Green  DO NOTHING             DO NOTHING              \n",
       "..   ...         ...         ...        ...         ...        ...   \n",
       "191  192       Green  DO NOTHING             DO NOTHING              \n",
       "192  193       Green       ADD 3  incorrect  DO NOTHING              \n",
       "193  194       Green       ADD 3  incorrect       ADD 3  incorrect   \n",
       "194  195       Green  DO NOTHING                  ADD 3    correct   \n",
       "195  196       Green  DO NOTHING             DO NOTHING              \n",
       "\n",
       "             q3      q3ans          q4      q4ans  ... moe_9r moe_10r moe_11r  \\\n",
       "0    DO NOTHING             DO NOTHING             ...      1       5       1   \n",
       "1    DO NOTHING                  ADD 3  incorrect  ...      5       3       4   \n",
       "2         ADD 3  incorrect       ADD 3  incorrect  ...      5       3       5   \n",
       "3    DO NOTHING                  ADD 3  incorrect  ...      5       3       4   \n",
       "4    DO NOTHING             DO NOTHING             ...      3       4       4   \n",
       "..          ...        ...         ...        ...  ...    ...     ...     ...   \n",
       "191  DO NOTHING             DO NOTHING             ...      3       3       4   \n",
       "192       ADD 3    correct  DO NOTHING             ...      4       1       4   \n",
       "193       ADD 3  incorrect       ADD 3  incorrect  ...      4       4       4   \n",
       "194  DO NOTHING                  ADD 3  incorrect  ...      4       4       1   \n",
       "195       ADD 3  incorrect       ADD 3    correct  ...      4       3       5   \n",
       "\n",
       "    moe_12r moe_13r moe_14r moe_15r moe_16r moe_17r moe_18r  \n",
       "0         1       5       4       1       3       5       3  \n",
       "1         5       3       4       5       4       1       3  \n",
       "2         5       5       5       5       4       4       1  \n",
       "3         4       3       4       4       3       3       3  \n",
       "4         3       3       4       4       3       4       4  \n",
       "..      ...     ...     ...     ...     ...     ...     ...  \n",
       "191       4       3       4       4       4       1       3  \n",
       "192       5       3       3       3       4       1       1  \n",
       "193       4       3       4       4       4       3       3  \n",
       "194       4       5       3       3       4       3       3  \n",
       "195       4       3       4       4       4       4       4  \n",
       "\n",
       "[196 rows x 240 columns]"
      ]
     },
     "execution_count": 33,
     "metadata": {},
     "output_type": "execute_result"
    }
   ],
   "source": [
    "df"
   ]
  },
  {
   "cell_type": "code",
   "execution_count": 34,
   "id": "c856f410",
   "metadata": {},
   "outputs": [
    {
     "data": {
      "text/plain": [
       "array(['PID', 'attencheck1', 'q1', 'q1ans', 'q2', 'q2ans', 'q3', 'q3ans',\n",
       "       'q4', 'q4ans', 'q5', 'q5ans', 'q6', 'q6ans', 'q7', 'q7ans', 'q8',\n",
       "       'q8ans', 'q9', 'q9ans', 'q10', 'q10ans', 'first_deckA_mental',\n",
       "       'first_deckA_boredom', 'first_deckB_mental', 'first_deckB_boredom',\n",
       "       'q11', 'q11ans', 'q12', 'q12ans', 'q13', 'q13ans', 'q14', 'q14ans',\n",
       "       'q15', 'q15ans', 'q16', 'q16ans', 'q17', 'q17ans', 'q18', 'q18ans',\n",
       "       'q19', 'q19ans', 'q20', 'q20ans', 'second_deckA_mental',\n",
       "       'second_deckA_boredom', 'second_deckB_mental',\n",
       "       'second_deckB_boredom', 'q21', 'q21ans', 'q22', 'q22ans', 'q23',\n",
       "       'q23ans', 'q24', 'q24ans', 'q25', 'q25ans', 'q26', 'q26ans', 'q27',\n",
       "       'q27ans', 'q28', 'q28ans', 'q29', 'q29ans', 'q30', 'q30ans',\n",
       "       'third_deckA_mental', 'third_deckA_boredom', 'third_deckB_mental',\n",
       "       'third_deckB_boredom', 'q31', 'q31ans', 'q32', 'q32ans', 'q33',\n",
       "       'q33ans', 'q34', 'q34ans', 'q35', 'q35ans', 'q36', 'q36ans', 'q37',\n",
       "       'q37ans', 'q38', 'q38ans', 'q39', 'q39ans', 'q40', 'q40ans',\n",
       "       'fourth_deckA_mental', 'fourth_deckA_boredom',\n",
       "       'fourth_deckB_mental', 'fourth_deckB_boredom', 'q41', 'q41ans',\n",
       "       'q42', 'q42ans', 'q43', 'q43ans', 'q44', 'q44ans', 'q45', 'q45ans',\n",
       "       'q46', 'q46ans', 'q47', 'q47ans', 'q48', 'q48ans', 'q49', 'q49ans',\n",
       "       'q50', 'q50ans', 'fifth_deckA_mental', 'fifth_deckA_boredom',\n",
       "       'fifth_deckB_mental', 'fifth_deckB_boredom', 'q51', 'q51ans',\n",
       "       'q52', 'q52ans', 'q53', 'q53ans', 'q54', 'q54ans', 'q55', 'q55ans',\n",
       "       'q56', 'q56ans', 'q57', 'q57ans', 'q58', 'q58ans', 'q59', 'q59ans',\n",
       "       'q60', 'q60ans', 'sixth_deckA_mental', 'sixth_deckA_boredom',\n",
       "       'sixth_deckB_mental', 'sixth_deckB_boredom', 'q61', 'q61ans',\n",
       "       'q62', 'q62ans', 'q63', 'q63ans', 'q64', 'q64ans', 'q65', 'q65ans',\n",
       "       'q66', 'q66ans', 'q67', 'q67ans', 'q68', 'q68ans', 'q69', 'q69ans',\n",
       "       'q70', 'q70ans', 'seventh_deckA_mental', 'seventh_deckA_boredom',\n",
       "       'seventh_deckB_mental', 'seventh_deckB_boredom', 'q71', 'q71ans',\n",
       "       'q72', 'q72ans', 'q73', 'q73ans', 'q74', 'q74ans', 'q75', 'q75ans',\n",
       "       'q76', 'q76ans', 'q77', 'q77ans', 'q78', 'q78ans', 'q79', 'q79ans',\n",
       "       'q80', 'q80ans', 'eigth_deckA_mental', 'eigth_deckA_boredom',\n",
       "       'eigth_deckB_mental', 'eigth_deckB_boredom', 'selfadmit',\n",
       "       'attencheck2', 'nfc_1r', 'nfc_2r', 'nfc_3r', 'nfc_4r', 'nfc_5r',\n",
       "       'nfc_6r', 'nfc_7r', 'nfc_8r', 'nfc_9r', 'nfc_10r', 'nfc_11r',\n",
       "       'nfc_12r', 'nfc_13r', 'nfc_14r', 'nfc_15r', 'nfc_16r', 'nfc_17r',\n",
       "       'nfc_18r', 'bps_1r', 'bps_2r', 'bps_3r', 'bps_4r', 'bps_5r',\n",
       "       'bps_6r', 'bps_7r', 'bps_8r', 'moe_1r', 'moe_2r', 'moe_3r',\n",
       "       'moe_4r', 'moe_5r', 'moe_6r', 'moe_7r', 'moe_8r', 'moe_9r',\n",
       "       'moe_10r', 'moe_11r', 'moe_12r', 'moe_13r', 'moe_14r', 'moe_15r',\n",
       "       'moe_16r', 'moe_17r', 'moe_18r'], dtype=object)"
      ]
     },
     "execution_count": 34,
     "metadata": {},
     "output_type": "execute_result"
    }
   ],
   "source": [
    "df.columns.values"
   ]
  },
  {
   "cell_type": "code",
   "execution_count": 35,
   "id": "389128c6",
   "metadata": {},
   "outputs": [],
   "source": [
    "df.drop([\"first_deckA_mental\", \"first_deckA_boredom\", \"first_deckB_mental\", \"first_deckB_boredom\",\n",
    "         \"second_deckA_mental\", \"second_deckA_boredom\", \"second_deckB_mental\", \"second_deckB_boredom\",\n",
    "          \"third_deckA_mental\", \"third_deckA_boredom\", \"third_deckB_mental\", \"third_deckB_boredom\",\n",
    "           \"fourth_deckA_mental\", \"fourth_deckA_boredom\", \"fourth_deckB_mental\", \"fourth_deckB_boredom\",\n",
    "           \"fifth_deckA_mental\", \"fifth_deckA_boredom\", \"fifth_deckB_mental\", \"fifth_deckB_boredom\",\n",
    "           \"sixth_deckA_mental\", \"sixth_deckA_boredom\", \"sixth_deckB_mental\", \"sixth_deckB_boredom\",\n",
    "           \"seventh_deckA_mental\", \"seventh_deckA_boredom\", \"seventh_deckB_mental\", \"seventh_deckB_boredom\",\n",
    "           \"eigth_deckA_mental\", \"eigth_deckA_boredom\", \"eigth_deckB_mental\", \"eigth_deckB_boredom\"],\n",
    "           axis=1, inplace=True)"
   ]
  },
  {
   "cell_type": "code",
   "execution_count": 36,
   "id": "11aefaf3",
   "metadata": {},
   "outputs": [],
   "source": [
    "df.drop([\"bps_1r\", \"bps_2r\", \"bps_3r\", \"bps_4r\", \"bps_5r\", \"bps_6r\", \"bps_7r\", \"bps_8r\",\n",
    "         \"moe_1r\", \"moe_2r\", \"moe_3r\", \"moe_4r\", \"moe_5r\", \"moe_6r\", \"moe_7r\", \n",
    "         \"moe_8r\", \"moe_9r\", \"moe_10r\", \"moe_11r\", \"moe_12r\", \"moe_13r\", \"moe_14r\",\n",
    "         \"moe_15r\", \"moe_16r\", \"moe_17r\", \"moe_18r\"], axis=1, inplace=True)"
   ]
  },
  {
   "cell_type": "code",
   "execution_count": 37,
   "id": "d73c34c7",
   "metadata": {},
   "outputs": [],
   "source": [
    "df.drop(['q1ans', 'q2ans','q3ans', 'q4ans', 'q5ans', 'q6ans', 'q7ans','q8ans', 'q9ans', 'q10ans', 'q11ans',\n",
    "            'q12ans', 'q13ans','q14ans','q15ans','q16ans', 'q17ans','q18ans','q19ans','q20ans','q21ans','q22ans',\n",
    "            'q23ans', 'q24ans','q25ans', 'q26ans','q27ans', 'q28ans','q29ans','q30ans','q31ans', 'q32ans','q33ans',\n",
    "            'q34ans','q35ans','q36ans','q37ans','q38ans','q39ans','q40ans', 'q41ans', 'q42ans','q43ans', 'q44ans',\n",
    "            'q45ans', 'q46ans', 'q47ans','q48ans', 'q49ans', 'q50ans', 'q51ans','q52ans', 'q53ans','q54ans','q55ans',\n",
    "            'q56ans', 'q57ans','q58ans','q59ans','q60ans','q61ans','q62ans','q63ans', 'q64ans','q65ans', 'q66ans',\n",
    "            'q67ans', 'q68ans','q69ans','q70ans','q71ans', 'q72ans','q73ans','q74ans','q75ans','q76ans','q77ans',\n",
    "            'q78ans','q79ans','q80ans', ], axis=1, inplace=True)"
   ]
  },
  {
   "cell_type": "code",
   "execution_count": 38,
   "id": "10cad2b6",
   "metadata": {},
   "outputs": [
    {
     "data": {
      "text/plain": [
       "attencheck1\n",
       "Green     176\n",
       "Yellow     20\n",
       "Name: count, dtype: int64"
      ]
     },
     "execution_count": 38,
     "metadata": {},
     "output_type": "execute_result"
    }
   ],
   "source": [
    "df[\"attencheck1\"].value_counts()"
   ]
  },
  {
   "cell_type": "code",
   "execution_count": 39,
   "id": "f34ae541",
   "metadata": {},
   "outputs": [],
   "source": [
    "df = df.drop(df[df[\"attencheck1\"] == \"Yellow\"].index)"
   ]
  },
  {
   "cell_type": "code",
   "execution_count": 40,
   "id": "9de8f438",
   "metadata": {},
   "outputs": [
    {
     "data": {
      "text/plain": [
       "attencheck1\n",
       "Green    176\n",
       "Name: count, dtype: int64"
      ]
     },
     "execution_count": 40,
     "metadata": {},
     "output_type": "execute_result"
    }
   ],
   "source": [
    "df[\"attencheck1\"].value_counts()"
   ]
  },
  {
   "cell_type": "code",
   "execution_count": 41,
   "id": "9e726ba0",
   "metadata": {},
   "outputs": [
    {
     "data": {
      "text/plain": [
       "attencheck2\n",
       "Blue    176\n",
       "Name: count, dtype: int64"
      ]
     },
     "execution_count": 41,
     "metadata": {},
     "output_type": "execute_result"
    }
   ],
   "source": [
    "df[\"attencheck2\"].value_counts()"
   ]
  },
  {
   "cell_type": "code",
   "execution_count": 42,
   "id": "b5717a01",
   "metadata": {},
   "outputs": [
    {
     "data": {
      "text/plain": [
       "selfadmit\n",
       "No     92\n",
       "Yes    84\n",
       "Name: count, dtype: int64"
      ]
     },
     "execution_count": 42,
     "metadata": {},
     "output_type": "execute_result"
    }
   ],
   "source": [
    "df[\"selfadmit\"].value_counts()"
   ]
  },
  {
   "cell_type": "code",
   "execution_count": 43,
   "id": "a949bad2",
   "metadata": {},
   "outputs": [],
   "source": [
    "df = df.drop(df[df[\"selfadmit\"] == \"Yes\"].index)"
   ]
  },
  {
   "cell_type": "code",
   "execution_count": 44,
   "id": "b8912319",
   "metadata": {},
   "outputs": [
    {
     "data": {
      "text/plain": [
       "selfadmit\n",
       "No    92\n",
       "Name: count, dtype: int64"
      ]
     },
     "execution_count": 44,
     "metadata": {},
     "output_type": "execute_result"
    }
   ],
   "source": [
    "df[\"selfadmit\"].value_counts()"
   ]
  },
  {
   "cell_type": "code",
   "execution_count": 45,
   "id": "416d52ac",
   "metadata": {},
   "outputs": [],
   "source": [
    "df.drop([\"attencheck1\", \"selfadmit\", \"attencheck2\"], axis=1, inplace=True)"
   ]
  },
  {
   "cell_type": "code",
   "execution_count": 46,
   "id": "41279775",
   "metadata": {},
   "outputs": [
    {
     "data": {
      "text/plain": [
       "array(['PID', 'q1', 'q2', 'q3', 'q4', 'q5', 'q6', 'q7', 'q8', 'q9', 'q10',\n",
       "       'q11', 'q12', 'q13', 'q14', 'q15', 'q16', 'q17', 'q18', 'q19',\n",
       "       'q20', 'q21', 'q22', 'q23', 'q24', 'q25', 'q26', 'q27', 'q28',\n",
       "       'q29', 'q30', 'q31', 'q32', 'q33', 'q34', 'q35', 'q36', 'q37',\n",
       "       'q38', 'q39', 'q40', 'q41', 'q42', 'q43', 'q44', 'q45', 'q46',\n",
       "       'q47', 'q48', 'q49', 'q50', 'q51', 'q52', 'q53', 'q54', 'q55',\n",
       "       'q56', 'q57', 'q58', 'q59', 'q60', 'q61', 'q62', 'q63', 'q64',\n",
       "       'q65', 'q66', 'q67', 'q68', 'q69', 'q70', 'q71', 'q72', 'q73',\n",
       "       'q74', 'q75', 'q76', 'q77', 'q78', 'q79', 'q80', 'nfc_1r',\n",
       "       'nfc_2r', 'nfc_3r', 'nfc_4r', 'nfc_5r', 'nfc_6r', 'nfc_7r',\n",
       "       'nfc_8r', 'nfc_9r', 'nfc_10r', 'nfc_11r', 'nfc_12r', 'nfc_13r',\n",
       "       'nfc_14r', 'nfc_15r', 'nfc_16r', 'nfc_17r', 'nfc_18r'],\n",
       "      dtype=object)"
      ]
     },
     "execution_count": 46,
     "metadata": {},
     "output_type": "execute_result"
    }
   ],
   "source": [
    "df.columns.values"
   ]
  },
  {
   "cell_type": "code",
   "execution_count": 48,
   "id": "28ee7ee4",
   "metadata": {},
   "outputs": [
    {
     "name": "stderr",
     "output_type": "stream",
     "text": [
      "C:\\Users\\marku\\AppData\\Local\\Temp\\ipykernel_2584\\346590850.py:9: FutureWarning: Downcasting behavior in `replace` is deprecated and will be removed in a future version. To retain the old behavior, explicitly call `result.infer_objects(copy=False)`. To opt-in to the future behavior, set `pd.set_option('future.no_silent_downcasting', True)`\n",
      "  df[i] = df[i].replace({\"ADD 3\": 2, \"DO NOTHING\": 1})\n"
     ]
    }
   ],
   "source": [
    "kolumner = ['q1', 'q2','q3', 'q4', 'q5', 'q6', 'q7','q8', 'q9', 'q10', 'q11',\n",
    "            'q12', 'q13','q14','q15','q16', 'q17','q18','q19','q20','q21','q22',\n",
    "            'q23', 'q24','q25', 'q26','q27', 'q28','q29','q30','q31', 'q32','q33',\n",
    "            'q34','q35','q36','q37','q38','q39','q40','q41', 'q42','q43', 'q44', 'q45',\n",
    "            'q46', 'q47','q48', 'q49', 'q50', 'q51','q52', 'q53','q54','q55','q56',\n",
    "            'q57','q58','q59','q60','q61','q62','q63', 'q64','q65', 'q66','q67',\n",
    "            'q68','q69','q70','q71', 'q72','q73','q74','q75','q76','q77','q78','q79','q80']\n",
    "for i in kolumner:\n",
    "    df[i] = df[i].replace({\"ADD 3\": 2, \"DO NOTHING\": 1})"
   ]
  }
 ],
 "metadata": {
  "kernelspec": {
   "display_name": "base",
   "language": "python",
   "name": "python3"
  },
  "language_info": {
   "codemirror_mode": {
    "name": "ipython",
    "version": 3
   },
   "file_extension": ".py",
   "mimetype": "text/x-python",
   "name": "python",
   "nbconvert_exporter": "python",
   "pygments_lexer": "ipython3",
   "version": "3.13.5"
  }
 },
 "nbformat": 4,
 "nbformat_minor": 5
}
